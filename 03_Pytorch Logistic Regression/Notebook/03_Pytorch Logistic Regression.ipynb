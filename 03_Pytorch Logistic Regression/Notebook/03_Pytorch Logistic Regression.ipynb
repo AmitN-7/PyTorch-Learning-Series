{
 "cells": [
  {
   "cell_type": "markdown",
   "id": "6e276da9",
   "metadata": {},
   "source": [
    "# Logistic regression with Pytorch"
   ]
  },
  {
   "cell_type": "markdown",
   "id": "7975be5b-8485-4e3f-a08a-491f951871fb",
   "metadata": {},
   "source": [
    "Logistic Regression is a statistical method used to model the relationship between a binary or categorical target variable and one or more predictor variables. The goal is to estimate the probability of a particular class or event occurring, given the predictor variables.\n",
    "\n",
    "logistic regression uses sigmoid function to model the relationship between the predictors and the outcome. The sigmoid function maps any real-valued number to a value between 0 and 1.\n",
    "\n",
    "The sigmoid function is defined as:\n",
    "\n",
    "y = 1 / (1 + e^(-x))\n",
    "where:\n",
    "\n",
    "- y is the predicted probability\n",
    "- e is the base of the natural logarithm\n",
    "- x is a linear combination of the predictors: x = b0 + b1*X1 + b2*X2 + ... + bn*Xn"
   ]
  },
  {
   "cell_type": "markdown",
   "id": "783a45e9",
   "metadata": {},
   "source": [
    "### 1. Importing relevant libraries"
   ]
  },
  {
   "cell_type": "code",
   "execution_count": 1,
   "id": "559167f3",
   "metadata": {},
   "outputs": [],
   "source": [
    "# !pip install matplotlib==3.8.2\n",
    "# !pip install numpy==1.26.2\n",
    "# !pip install pandas==2.1.4\n",
    "# !pip install scikit_learn==1.4.2\n",
    "# !pip install seaborn==0.13.2\n",
    "# !pip install torch==2.2.2\n",
    "# !pip install torchvision==0.17.2"
   ]
  },
  {
   "cell_type": "code",
   "execution_count": 2,
   "id": "7cba024d",
   "metadata": {},
   "outputs": [],
   "source": [
    "import pandas as pd\n",
    "import numpy as np\n",
    "import torch\n",
    "import torch.nn as nn\n",
    "import torchvision.transforms as transforms\n",
    "from sklearn.utils import resample\n",
    "from sklearn import preprocessing\n",
    "from sklearn.preprocessing import StandardScaler\n",
    "import seaborn as sns\n",
    "from warnings import filterwarnings\n",
    "filterwarnings('ignore')"
   ]
  },
  {
   "cell_type": "code",
   "execution_count": 3,
   "id": "5bdb9690",
   "metadata": {},
   "outputs": [],
   "source": [
    "df = pd.read_csv(\"../Input/data.csv\")"
   ]
  },
  {
   "cell_type": "code",
   "execution_count": 4,
   "id": "47c3e70a",
   "metadata": {},
   "outputs": [
    {
     "data": {
      "text/html": [
       "<div>\n",
       "<style scoped>\n",
       "    .dataframe tbody tr th:only-of-type {\n",
       "        vertical-align: middle;\n",
       "    }\n",
       "\n",
       "    .dataframe tbody tr th {\n",
       "        vertical-align: top;\n",
       "    }\n",
       "\n",
       "    .dataframe thead th {\n",
       "        text-align: right;\n",
       "    }\n",
       "</style>\n",
       "<table border=\"1\" class=\"dataframe\">\n",
       "  <thead>\n",
       "    <tr style=\"text-align: right;\">\n",
       "      <th></th>\n",
       "      <th>year</th>\n",
       "      <th>customer_id</th>\n",
       "      <th>phone_no</th>\n",
       "      <th>gender</th>\n",
       "      <th>age</th>\n",
       "      <th>no_of_days_subscribed</th>\n",
       "      <th>multi_screen</th>\n",
       "      <th>mail_subscribed</th>\n",
       "      <th>weekly_mins_watched</th>\n",
       "      <th>minimum_daily_mins</th>\n",
       "      <th>maximum_daily_mins</th>\n",
       "      <th>weekly_max_night_mins</th>\n",
       "      <th>videos_watched</th>\n",
       "      <th>maximum_days_inactive</th>\n",
       "      <th>customer_support_calls</th>\n",
       "      <th>churn</th>\n",
       "    </tr>\n",
       "  </thead>\n",
       "  <tbody>\n",
       "    <tr>\n",
       "      <th>1997</th>\n",
       "      <td>2015</td>\n",
       "      <td>998474</td>\n",
       "      <td>353-2080</td>\n",
       "      <td>NaN</td>\n",
       "      <td>53</td>\n",
       "      <td>94</td>\n",
       "      <td>no</td>\n",
       "      <td>no</td>\n",
       "      <td>128.85</td>\n",
       "      <td>15.6</td>\n",
       "      <td>14.60</td>\n",
       "      <td>110</td>\n",
       "      <td>16</td>\n",
       "      <td>5.0</td>\n",
       "      <td>0</td>\n",
       "      <td>0.0</td>\n",
       "    </tr>\n",
       "    <tr>\n",
       "      <th>1998</th>\n",
       "      <td>2015</td>\n",
       "      <td>998934</td>\n",
       "      <td>359-7788</td>\n",
       "      <td>Male</td>\n",
       "      <td>40</td>\n",
       "      <td>94</td>\n",
       "      <td>no</td>\n",
       "      <td>no</td>\n",
       "      <td>178.05</td>\n",
       "      <td>10.4</td>\n",
       "      <td>20.18</td>\n",
       "      <td>100</td>\n",
       "      <td>6</td>\n",
       "      <td>NaN</td>\n",
       "      <td>3</td>\n",
       "      <td>0.0</td>\n",
       "    </tr>\n",
       "    <tr>\n",
       "      <th>1999</th>\n",
       "      <td>2015</td>\n",
       "      <td>999961</td>\n",
       "      <td>414-1496</td>\n",
       "      <td>Male</td>\n",
       "      <td>37</td>\n",
       "      <td>73</td>\n",
       "      <td>no</td>\n",
       "      <td>no</td>\n",
       "      <td>326.70</td>\n",
       "      <td>10.3</td>\n",
       "      <td>37.03</td>\n",
       "      <td>89</td>\n",
       "      <td>6</td>\n",
       "      <td>3.0</td>\n",
       "      <td>1</td>\n",
       "      <td>1.0</td>\n",
       "    </tr>\n",
       "  </tbody>\n",
       "</table>\n",
       "</div>"
      ],
      "text/plain": [
       "      year  customer_id  phone_no gender  age  no_of_days_subscribed  \\\n",
       "1997  2015       998474  353-2080    NaN   53                     94   \n",
       "1998  2015       998934  359-7788   Male   40                     94   \n",
       "1999  2015       999961  414-1496   Male   37                     73   \n",
       "\n",
       "     multi_screen mail_subscribed  weekly_mins_watched  minimum_daily_mins  \\\n",
       "1997           no              no               128.85                15.6   \n",
       "1998           no              no               178.05                10.4   \n",
       "1999           no              no               326.70                10.3   \n",
       "\n",
       "      maximum_daily_mins  weekly_max_night_mins  videos_watched  \\\n",
       "1997               14.60                    110              16   \n",
       "1998               20.18                    100               6   \n",
       "1999               37.03                     89               6   \n",
       "\n",
       "      maximum_days_inactive  customer_support_calls  churn  \n",
       "1997                    5.0                       0    0.0  \n",
       "1998                    NaN                       3    0.0  \n",
       "1999                    3.0                       1    1.0  "
      ]
     },
     "execution_count": 4,
     "metadata": {},
     "output_type": "execute_result"
    }
   ],
   "source": [
    "df.tail(3)"
   ]
  },
  {
   "cell_type": "code",
   "execution_count": 5,
   "id": "ee21c558-40c4-4791-84d8-e0e862b53efc",
   "metadata": {},
   "outputs": [
    {
     "name": "stdout",
     "output_type": "stream",
     "text": [
      "<class 'pandas.core.frame.DataFrame'>\n",
      "RangeIndex: 2000 entries, 0 to 1999\n",
      "Data columns (total 16 columns):\n",
      " #   Column                  Non-Null Count  Dtype  \n",
      "---  ------                  --------------  -----  \n",
      " 0   year                    2000 non-null   int64  \n",
      " 1   customer_id             2000 non-null   int64  \n",
      " 2   phone_no                2000 non-null   object \n",
      " 3   gender                  1976 non-null   object \n",
      " 4   age                     2000 non-null   int64  \n",
      " 5   no_of_days_subscribed   2000 non-null   int64  \n",
      " 6   multi_screen            2000 non-null   object \n",
      " 7   mail_subscribed         2000 non-null   object \n",
      " 8   weekly_mins_watched     2000 non-null   float64\n",
      " 9   minimum_daily_mins      2000 non-null   float64\n",
      " 10  maximum_daily_mins      2000 non-null   float64\n",
      " 11  weekly_max_night_mins   2000 non-null   int64  \n",
      " 12  videos_watched          2000 non-null   int64  \n",
      " 13  maximum_days_inactive   1972 non-null   float64\n",
      " 14  customer_support_calls  2000 non-null   int64  \n",
      " 15  churn                   1965 non-null   float64\n",
      "dtypes: float64(5), int64(7), object(4)\n",
      "memory usage: 250.1+ KB\n"
     ]
    }
   ],
   "source": [
    "df.info()"
   ]
  },
  {
   "cell_type": "markdown",
   "id": "211c6ec5-0abe-4d25-b337-fe2f68a064bc",
   "metadata": {},
   "source": [
    "#### 2. Data Cleaning"
   ]
  },
  {
   "cell_type": "code",
   "execution_count": 6,
   "id": "52a24c2c",
   "metadata": {},
   "outputs": [],
   "source": [
    "df = df.drop([\"year\", \"customer_id\", \"phone_no\"], axis=1)#Dropping Unnecessary columns"
   ]
  },
  {
   "cell_type": "code",
   "execution_count": 7,
   "id": "64913530",
   "metadata": {},
   "outputs": [
    {
     "data": {
      "text/html": [
       "<div>\n",
       "<style scoped>\n",
       "    .dataframe tbody tr th:only-of-type {\n",
       "        vertical-align: middle;\n",
       "    }\n",
       "\n",
       "    .dataframe tbody tr th {\n",
       "        vertical-align: top;\n",
       "    }\n",
       "\n",
       "    .dataframe thead th {\n",
       "        text-align: right;\n",
       "    }\n",
       "</style>\n",
       "<table border=\"1\" class=\"dataframe\">\n",
       "  <thead>\n",
       "    <tr style=\"text-align: right;\">\n",
       "      <th></th>\n",
       "      <th>gender</th>\n",
       "      <th>age</th>\n",
       "      <th>no_of_days_subscribed</th>\n",
       "      <th>multi_screen</th>\n",
       "      <th>mail_subscribed</th>\n",
       "      <th>weekly_mins_watched</th>\n",
       "      <th>minimum_daily_mins</th>\n",
       "      <th>maximum_daily_mins</th>\n",
       "      <th>weekly_max_night_mins</th>\n",
       "      <th>videos_watched</th>\n",
       "      <th>maximum_days_inactive</th>\n",
       "      <th>customer_support_calls</th>\n",
       "      <th>churn</th>\n",
       "    </tr>\n",
       "  </thead>\n",
       "  <tbody>\n",
       "    <tr>\n",
       "      <th>0</th>\n",
       "      <td>Female</td>\n",
       "      <td>36</td>\n",
       "      <td>62</td>\n",
       "      <td>no</td>\n",
       "      <td>no</td>\n",
       "      <td>148.35</td>\n",
       "      <td>12.2</td>\n",
       "      <td>16.81</td>\n",
       "      <td>82</td>\n",
       "      <td>1</td>\n",
       "      <td>4.0</td>\n",
       "      <td>1</td>\n",
       "      <td>0.0</td>\n",
       "    </tr>\n",
       "    <tr>\n",
       "      <th>1</th>\n",
       "      <td>Female</td>\n",
       "      <td>39</td>\n",
       "      <td>149</td>\n",
       "      <td>no</td>\n",
       "      <td>no</td>\n",
       "      <td>294.45</td>\n",
       "      <td>7.7</td>\n",
       "      <td>33.37</td>\n",
       "      <td>87</td>\n",
       "      <td>3</td>\n",
       "      <td>3.0</td>\n",
       "      <td>2</td>\n",
       "      <td>0.0</td>\n",
       "    </tr>\n",
       "  </tbody>\n",
       "</table>\n",
       "</div>"
      ],
      "text/plain": [
       "   gender  age  no_of_days_subscribed multi_screen mail_subscribed  \\\n",
       "0  Female   36                     62           no              no   \n",
       "1  Female   39                    149           no              no   \n",
       "\n",
       "   weekly_mins_watched  minimum_daily_mins  maximum_daily_mins  \\\n",
       "0               148.35                12.2               16.81   \n",
       "1               294.45                 7.7               33.37   \n",
       "\n",
       "   weekly_max_night_mins  videos_watched  maximum_days_inactive  \\\n",
       "0                     82               1                    4.0   \n",
       "1                     87               3                    3.0   \n",
       "\n",
       "   customer_support_calls  churn  \n",
       "0                       1    0.0  \n",
       "1                       2    0.0  "
      ]
     },
     "execution_count": 7,
     "metadata": {},
     "output_type": "execute_result"
    }
   ],
   "source": [
    "df.head(2)"
   ]
  },
  {
   "cell_type": "code",
   "execution_count": 8,
   "id": "3678de03",
   "metadata": {},
   "outputs": [
    {
     "name": "stdout",
     "output_type": "stream",
     "text": [
      "(2000, 13)\n",
      "Index(['gender', 'age', 'no_of_days_subscribed', 'multi_screen',\n",
      "       'mail_subscribed', 'weekly_mins_watched', 'minimum_daily_mins',\n",
      "       'maximum_daily_mins', 'weekly_max_night_mins', 'videos_watched',\n",
      "       'maximum_days_inactive', 'customer_support_calls', 'churn'],\n",
      "      dtype='object')\n"
     ]
    },
    {
     "data": {
      "text/plain": [
       "gender                     object\n",
       "age                         int64\n",
       "no_of_days_subscribed       int64\n",
       "multi_screen               object\n",
       "mail_subscribed            object\n",
       "weekly_mins_watched       float64\n",
       "minimum_daily_mins        float64\n",
       "maximum_daily_mins        float64\n",
       "weekly_max_night_mins       int64\n",
       "videos_watched              int64\n",
       "maximum_days_inactive     float64\n",
       "customer_support_calls      int64\n",
       "churn                     float64\n",
       "dtype: object"
      ]
     },
     "execution_count": 8,
     "metadata": {},
     "output_type": "execute_result"
    }
   ],
   "source": [
    "print(df.shape)         \n",
    "print(df.columns)   \n",
    "df.dtypes   "
   ]
  },
  {
   "cell_type": "markdown",
   "id": "a2359986-8549-40c0-89cf-f881907d3d0d",
   "metadata": {},
   "source": [
    "### 3.Data Preprocessing"
   ]
  },
  {
   "cell_type": "code",
   "execution_count": 9,
   "id": "27abb06e",
   "metadata": {
    "scrolled": true
   },
   "outputs": [
    {
     "data": {
      "text/plain": [
       "gender                    24\n",
       "age                        0\n",
       "no_of_days_subscribed      0\n",
       "multi_screen               0\n",
       "mail_subscribed            0\n",
       "weekly_mins_watched        0\n",
       "minimum_daily_mins         0\n",
       "maximum_daily_mins         0\n",
       "weekly_max_night_mins      0\n",
       "videos_watched             0\n",
       "maximum_days_inactive     28\n",
       "customer_support_calls     0\n",
       "churn                     35\n",
       "dtype: int64"
      ]
     },
     "execution_count": 9,
     "metadata": {},
     "output_type": "execute_result"
    }
   ],
   "source": [
    "df.isnull().sum()"
   ]
  },
  {
   "cell_type": "code",
   "execution_count": 10,
   "id": "67731b70",
   "metadata": {},
   "outputs": [
    {
     "data": {
      "text/html": [
       "<div>\n",
       "<style scoped>\n",
       "    .dataframe tbody tr th:only-of-type {\n",
       "        vertical-align: middle;\n",
       "    }\n",
       "\n",
       "    .dataframe tbody tr th {\n",
       "        vertical-align: top;\n",
       "    }\n",
       "\n",
       "    .dataframe thead th {\n",
       "        text-align: right;\n",
       "    }\n",
       "</style>\n",
       "<table border=\"1\" class=\"dataframe\">\n",
       "  <thead>\n",
       "    <tr style=\"text-align: right;\">\n",
       "      <th></th>\n",
       "      <th>gender</th>\n",
       "      <th>age</th>\n",
       "      <th>no_of_days_subscribed</th>\n",
       "      <th>multi_screen</th>\n",
       "      <th>mail_subscribed</th>\n",
       "      <th>weekly_mins_watched</th>\n",
       "      <th>minimum_daily_mins</th>\n",
       "      <th>maximum_daily_mins</th>\n",
       "      <th>weekly_max_night_mins</th>\n",
       "      <th>videos_watched</th>\n",
       "      <th>maximum_days_inactive</th>\n",
       "      <th>customer_support_calls</th>\n",
       "      <th>churn</th>\n",
       "    </tr>\n",
       "  </thead>\n",
       "  <tbody>\n",
       "    <tr>\n",
       "      <th>0</th>\n",
       "      <td>Female</td>\n",
       "      <td>36</td>\n",
       "      <td>62</td>\n",
       "      <td>no</td>\n",
       "      <td>no</td>\n",
       "      <td>148.35</td>\n",
       "      <td>12.2</td>\n",
       "      <td>16.81</td>\n",
       "      <td>82</td>\n",
       "      <td>1</td>\n",
       "      <td>4.0</td>\n",
       "      <td>1</td>\n",
       "      <td>0.0</td>\n",
       "    </tr>\n",
       "    <tr>\n",
       "      <th>1</th>\n",
       "      <td>Female</td>\n",
       "      <td>39</td>\n",
       "      <td>149</td>\n",
       "      <td>no</td>\n",
       "      <td>no</td>\n",
       "      <td>294.45</td>\n",
       "      <td>7.7</td>\n",
       "      <td>33.37</td>\n",
       "      <td>87</td>\n",
       "      <td>3</td>\n",
       "      <td>3.0</td>\n",
       "      <td>2</td>\n",
       "      <td>0.0</td>\n",
       "    </tr>\n",
       "    <tr>\n",
       "      <th>2</th>\n",
       "      <td>Female</td>\n",
       "      <td>65</td>\n",
       "      <td>126</td>\n",
       "      <td>no</td>\n",
       "      <td>no</td>\n",
       "      <td>87.30</td>\n",
       "      <td>11.9</td>\n",
       "      <td>9.89</td>\n",
       "      <td>91</td>\n",
       "      <td>1</td>\n",
       "      <td>4.0</td>\n",
       "      <td>5</td>\n",
       "      <td>1.0</td>\n",
       "    </tr>\n",
       "    <tr>\n",
       "      <th>3</th>\n",
       "      <td>Female</td>\n",
       "      <td>24</td>\n",
       "      <td>131</td>\n",
       "      <td>no</td>\n",
       "      <td>yes</td>\n",
       "      <td>321.30</td>\n",
       "      <td>9.5</td>\n",
       "      <td>36.41</td>\n",
       "      <td>102</td>\n",
       "      <td>4</td>\n",
       "      <td>3.0</td>\n",
       "      <td>3</td>\n",
       "      <td>0.0</td>\n",
       "    </tr>\n",
       "    <tr>\n",
       "      <th>4</th>\n",
       "      <td>Female</td>\n",
       "      <td>40</td>\n",
       "      <td>191</td>\n",
       "      <td>no</td>\n",
       "      <td>no</td>\n",
       "      <td>243.00</td>\n",
       "      <td>10.9</td>\n",
       "      <td>27.54</td>\n",
       "      <td>83</td>\n",
       "      <td>7</td>\n",
       "      <td>3.0</td>\n",
       "      <td>1</td>\n",
       "      <td>0.0</td>\n",
       "    </tr>\n",
       "  </tbody>\n",
       "</table>\n",
       "</div>"
      ],
      "text/plain": [
       "   gender  age  no_of_days_subscribed multi_screen mail_subscribed  \\\n",
       "0  Female   36                     62           no              no   \n",
       "1  Female   39                    149           no              no   \n",
       "2  Female   65                    126           no              no   \n",
       "3  Female   24                    131           no             yes   \n",
       "4  Female   40                    191           no              no   \n",
       "\n",
       "   weekly_mins_watched  minimum_daily_mins  maximum_daily_mins  \\\n",
       "0               148.35                12.2               16.81   \n",
       "1               294.45                 7.7               33.37   \n",
       "2                87.30                11.9                9.89   \n",
       "3               321.30                 9.5               36.41   \n",
       "4               243.00                10.9               27.54   \n",
       "\n",
       "   weekly_max_night_mins  videos_watched  maximum_days_inactive  \\\n",
       "0                     82               1                    4.0   \n",
       "1                     87               3                    3.0   \n",
       "2                     91               1                    4.0   \n",
       "3                    102               4                    3.0   \n",
       "4                     83               7                    3.0   \n",
       "\n",
       "   customer_support_calls  churn  \n",
       "0                       1    0.0  \n",
       "1                       2    0.0  \n",
       "2                       5    1.0  \n",
       "3                       3    0.0  \n",
       "4                       1    0.0  "
      ]
     },
     "execution_count": 10,
     "metadata": {},
     "output_type": "execute_result"
    }
   ],
   "source": [
    "final_data = df.dropna() \n",
    "final_data.head()"
   ]
  },
  {
   "cell_type": "code",
   "execution_count": 11,
   "id": "3c3d83c5",
   "metadata": {},
   "outputs": [
    {
     "data": {
      "text/plain": [
       "(1918, 13)"
      ]
     },
     "execution_count": 11,
     "metadata": {},
     "output_type": "execute_result"
    }
   ],
   "source": [
    "final_data.shape"
   ]
  },
  {
   "cell_type": "code",
   "execution_count": 12,
   "id": "ea6c906c",
   "metadata": {},
   "outputs": [
    {
     "data": {
      "text/plain": [
       "gender                    0\n",
       "age                       0\n",
       "no_of_days_subscribed     0\n",
       "multi_screen              0\n",
       "mail_subscribed           0\n",
       "weekly_mins_watched       0\n",
       "minimum_daily_mins        0\n",
       "maximum_daily_mins        0\n",
       "weekly_max_night_mins     0\n",
       "videos_watched            0\n",
       "maximum_days_inactive     0\n",
       "customer_support_calls    0\n",
       "churn                     0\n",
       "dtype: int64"
      ]
     },
     "execution_count": 12,
     "metadata": {},
     "output_type": "execute_result"
    }
   ],
   "source": [
    "final_data.isnull().sum()"
   ]
  },
  {
   "cell_type": "code",
   "execution_count": 13,
   "id": "8b21b6d2",
   "metadata": {},
   "outputs": [
    {
     "data": {
      "text/plain": [
       "churn\n",
       "0.0    1665\n",
       "1.0     253\n",
       "Name: count, dtype: int64"
      ]
     },
     "execution_count": 13,
     "metadata": {},
     "output_type": "execute_result"
    }
   ],
   "source": [
    "final_data[\"churn\"].value_counts()       "
   ]
  },
  {
   "cell_type": "markdown",
   "id": "d932a342-ccd9-4afe-ad3e-a1c99a724bc6",
   "metadata": {},
   "source": [
    "- There is a class imbalance. To counter the imbalance, we'll perform sampling"
   ]
  },
  {
   "cell_type": "code",
   "execution_count": 14,
   "id": "7597311d",
   "metadata": {},
   "outputs": [],
   "source": [
    "df_majority = final_data[final_data['churn']==0] #class 0\n",
    "df_minority = final_data[final_data['churn']==1] #class 1"
   ]
  },
  {
   "cell_type": "code",
   "execution_count": 15,
   "id": "34f3c687",
   "metadata": {},
   "outputs": [
    {
     "data": {
      "text/plain": [
       "2       1.0\n",
       "18      1.0\n",
       "22      1.0\n",
       "24      1.0\n",
       "26      1.0\n",
       "       ... \n",
       "1926    1.0\n",
       "1936    1.0\n",
       "1940    1.0\n",
       "1959    1.0\n",
       "1999    1.0\n",
       "Name: churn, Length: 253, dtype: float64"
      ]
     },
     "execution_count": 15,
     "metadata": {},
     "output_type": "execute_result"
    }
   ],
   "source": [
    "df_minority[\"churn\"]"
   ]
  },
  {
   "cell_type": "code",
   "execution_count": 16,
   "id": "f9c2b30c",
   "metadata": {},
   "outputs": [],
   "source": [
    "df_minority_upsampled = resample(df_minority, replace=True, n_samples=900, random_state=123) #upsampling minority class\n",
    "df_majority_downsampled = resample(df_majority, replace=False, n_samples=900, random_state=123) #downsampling majority class"
   ]
  },
  {
   "cell_type": "markdown",
   "id": "3698b146-68fc-4dd9-b6e9-8936205093ba",
   "metadata": {},
   "source": [
    "- *Minority is less, we increase the samples ie., upsampled*"
   ]
  },
  {
   "cell_type": "code",
   "execution_count": 17,
   "id": "88c5c556",
   "metadata": {},
   "outputs": [],
   "source": [
    "#concanating both upsampled and downsampled class\n",
    "df2 = pd.concat([df_majority_downsampled, df_minority_upsampled])"
   ]
  },
  {
   "cell_type": "code",
   "execution_count": 18,
   "id": "3d1653c4",
   "metadata": {},
   "outputs": [
    {
     "data": {
      "text/plain": [
       "churn\n",
       "0.0    900\n",
       "1.0    900\n",
       "Name: count, dtype: int64"
      ]
     },
     "execution_count": 18,
     "metadata": {},
     "output_type": "execute_result"
    }
   ],
   "source": [
    "df2[\"churn\"].value_counts()"
   ]
  },
  {
   "cell_type": "code",
   "execution_count": 19,
   "id": "a4a584f3",
   "metadata": {},
   "outputs": [
    {
     "data": {
      "text/html": [
       "<div>\n",
       "<style scoped>\n",
       "    .dataframe tbody tr th:only-of-type {\n",
       "        vertical-align: middle;\n",
       "    }\n",
       "\n",
       "    .dataframe tbody tr th {\n",
       "        vertical-align: top;\n",
       "    }\n",
       "\n",
       "    .dataframe thead th {\n",
       "        text-align: right;\n",
       "    }\n",
       "</style>\n",
       "<table border=\"1\" class=\"dataframe\">\n",
       "  <thead>\n",
       "    <tr style=\"text-align: right;\">\n",
       "      <th></th>\n",
       "      <th>gender</th>\n",
       "      <th>multi_screen</th>\n",
       "      <th>mail_subscribed</th>\n",
       "    </tr>\n",
       "  </thead>\n",
       "  <tbody>\n",
       "    <tr>\n",
       "      <th>1813</th>\n",
       "      <td>Male</td>\n",
       "      <td>yes</td>\n",
       "      <td>no</td>\n",
       "    </tr>\n",
       "    <tr>\n",
       "      <th>1362</th>\n",
       "      <td>Male</td>\n",
       "      <td>no</td>\n",
       "      <td>no</td>\n",
       "    </tr>\n",
       "    <tr>\n",
       "      <th>389</th>\n",
       "      <td>Female</td>\n",
       "      <td>no</td>\n",
       "      <td>no</td>\n",
       "    </tr>\n",
       "    <tr>\n",
       "      <th>1203</th>\n",
       "      <td>Male</td>\n",
       "      <td>no</td>\n",
       "      <td>no</td>\n",
       "    </tr>\n",
       "    <tr>\n",
       "      <th>1710</th>\n",
       "      <td>Male</td>\n",
       "      <td>no</td>\n",
       "      <td>no</td>\n",
       "    </tr>\n",
       "    <tr>\n",
       "      <th>...</th>\n",
       "      <td>...</td>\n",
       "      <td>...</td>\n",
       "      <td>...</td>\n",
       "    </tr>\n",
       "    <tr>\n",
       "      <th>1759</th>\n",
       "      <td>Male</td>\n",
       "      <td>no</td>\n",
       "      <td>no</td>\n",
       "    </tr>\n",
       "    <tr>\n",
       "      <th>845</th>\n",
       "      <td>Male</td>\n",
       "      <td>no</td>\n",
       "      <td>yes</td>\n",
       "    </tr>\n",
       "    <tr>\n",
       "      <th>602</th>\n",
       "      <td>Female</td>\n",
       "      <td>yes</td>\n",
       "      <td>no</td>\n",
       "    </tr>\n",
       "    <tr>\n",
       "      <th>22</th>\n",
       "      <td>Female</td>\n",
       "      <td>no</td>\n",
       "      <td>no</td>\n",
       "    </tr>\n",
       "    <tr>\n",
       "      <th>43</th>\n",
       "      <td>Female</td>\n",
       "      <td>no</td>\n",
       "      <td>no</td>\n",
       "    </tr>\n",
       "  </tbody>\n",
       "</table>\n",
       "<p>1800 rows × 3 columns</p>\n",
       "</div>"
      ],
      "text/plain": [
       "      gender multi_screen mail_subscribed\n",
       "1813    Male          yes              no\n",
       "1362    Male           no              no\n",
       "389   Female           no              no\n",
       "1203    Male           no              no\n",
       "1710    Male           no              no\n",
       "...      ...          ...             ...\n",
       "1759    Male           no              no\n",
       "845     Male           no             yes\n",
       "602   Female          yes              no\n",
       "22    Female           no              no\n",
       "43    Female           no              no\n",
       "\n",
       "[1800 rows x 3 columns]"
      ]
     },
     "execution_count": 19,
     "metadata": {},
     "output_type": "execute_result"
    }
   ],
   "source": [
    "df2[['gender', 'multi_screen', 'mail_subscribed']]"
   ]
  },
  {
   "cell_type": "markdown",
   "id": "bec5b2f5-87b9-47c2-aa66-1312bd277cb3",
   "metadata": {},
   "source": [
    "*Before feeding this to the model we need to encode the categroical variables*"
   ]
  },
  {
   "cell_type": "code",
   "execution_count": 20,
   "id": "ebf19352",
   "metadata": {},
   "outputs": [],
   "source": [
    "label_encoder = preprocessing.LabelEncoder()\n",
    "df2['gender']= label_encoder.fit_transform(df2['gender'])\n",
    "df2['multi_screen']= label_encoder.fit_transform(df2['multi_screen'])\n",
    "df2['mail_subscribed']= label_encoder.fit_transform(df2['mail_subscribed'])"
   ]
  },
  {
   "cell_type": "code",
   "execution_count": 21,
   "id": "75143ecb",
   "metadata": {},
   "outputs": [
    {
     "data": {
      "text/html": [
       "<div>\n",
       "<style scoped>\n",
       "    .dataframe tbody tr th:only-of-type {\n",
       "        vertical-align: middle;\n",
       "    }\n",
       "\n",
       "    .dataframe tbody tr th {\n",
       "        vertical-align: top;\n",
       "    }\n",
       "\n",
       "    .dataframe thead th {\n",
       "        text-align: right;\n",
       "    }\n",
       "</style>\n",
       "<table border=\"1\" class=\"dataframe\">\n",
       "  <thead>\n",
       "    <tr style=\"text-align: right;\">\n",
       "      <th></th>\n",
       "      <th>gender</th>\n",
       "      <th>age</th>\n",
       "      <th>no_of_days_subscribed</th>\n",
       "      <th>multi_screen</th>\n",
       "      <th>mail_subscribed</th>\n",
       "      <th>weekly_mins_watched</th>\n",
       "      <th>minimum_daily_mins</th>\n",
       "      <th>maximum_daily_mins</th>\n",
       "      <th>weekly_max_night_mins</th>\n",
       "      <th>videos_watched</th>\n",
       "      <th>maximum_days_inactive</th>\n",
       "      <th>customer_support_calls</th>\n",
       "      <th>churn</th>\n",
       "    </tr>\n",
       "  </thead>\n",
       "  <tbody>\n",
       "    <tr>\n",
       "      <th>1813</th>\n",
       "      <td>1</td>\n",
       "      <td>35</td>\n",
       "      <td>148</td>\n",
       "      <td>1</td>\n",
       "      <td>0</td>\n",
       "      <td>222.3</td>\n",
       "      <td>8.6</td>\n",
       "      <td>25.19</td>\n",
       "      <td>62</td>\n",
       "      <td>3</td>\n",
       "      <td>3.0</td>\n",
       "      <td>2</td>\n",
       "      <td>0.0</td>\n",
       "    </tr>\n",
       "    <tr>\n",
       "      <th>1362</th>\n",
       "      <td>1</td>\n",
       "      <td>42</td>\n",
       "      <td>98</td>\n",
       "      <td>0</td>\n",
       "      <td>0</td>\n",
       "      <td>241.5</td>\n",
       "      <td>12.1</td>\n",
       "      <td>27.37</td>\n",
       "      <td>113</td>\n",
       "      <td>4</td>\n",
       "      <td>4.0</td>\n",
       "      <td>4</td>\n",
       "      <td>0.0</td>\n",
       "    </tr>\n",
       "  </tbody>\n",
       "</table>\n",
       "</div>"
      ],
      "text/plain": [
       "      gender  age  no_of_days_subscribed  multi_screen  mail_subscribed  \\\n",
       "1813       1   35                    148             1                0   \n",
       "1362       1   42                     98             0                0   \n",
       "\n",
       "      weekly_mins_watched  minimum_daily_mins  maximum_daily_mins  \\\n",
       "1813                222.3                 8.6               25.19   \n",
       "1362                241.5                12.1               27.37   \n",
       "\n",
       "      weekly_max_night_mins  videos_watched  maximum_days_inactive  \\\n",
       "1813                     62               3                    3.0   \n",
       "1362                    113               4                    4.0   \n",
       "\n",
       "      customer_support_calls  churn  \n",
       "1813                       2    0.0  \n",
       "1362                       4    0.0  "
      ]
     },
     "execution_count": 21,
     "metadata": {},
     "output_type": "execute_result"
    }
   ],
   "source": [
    "df2.head(2)"
   ]
  },
  {
   "cell_type": "markdown",
   "id": "331c163a",
   "metadata": {},
   "source": [
    "#### Independent columns for feeding the model for training by keeping it into separate dataframe"
   ]
  },
  {
   "cell_type": "code",
   "execution_count": 22,
   "id": "04892d92",
   "metadata": {},
   "outputs": [],
   "source": [
    "X = df2.iloc[:,:-1] #All rows & skipping last column"
   ]
  },
  {
   "cell_type": "code",
   "execution_count": 23,
   "id": "082c4f70",
   "metadata": {
    "scrolled": true
   },
   "outputs": [
    {
     "data": {
      "text/html": [
       "<div>\n",
       "<style scoped>\n",
       "    .dataframe tbody tr th:only-of-type {\n",
       "        vertical-align: middle;\n",
       "    }\n",
       "\n",
       "    .dataframe tbody tr th {\n",
       "        vertical-align: top;\n",
       "    }\n",
       "\n",
       "    .dataframe thead th {\n",
       "        text-align: right;\n",
       "    }\n",
       "</style>\n",
       "<table border=\"1\" class=\"dataframe\">\n",
       "  <thead>\n",
       "    <tr style=\"text-align: right;\">\n",
       "      <th></th>\n",
       "      <th>gender</th>\n",
       "      <th>age</th>\n",
       "      <th>no_of_days_subscribed</th>\n",
       "      <th>multi_screen</th>\n",
       "      <th>mail_subscribed</th>\n",
       "      <th>weekly_mins_watched</th>\n",
       "      <th>minimum_daily_mins</th>\n",
       "      <th>maximum_daily_mins</th>\n",
       "      <th>weekly_max_night_mins</th>\n",
       "      <th>videos_watched</th>\n",
       "      <th>maximum_days_inactive</th>\n",
       "      <th>customer_support_calls</th>\n",
       "    </tr>\n",
       "  </thead>\n",
       "  <tbody>\n",
       "    <tr>\n",
       "      <th>1813</th>\n",
       "      <td>1</td>\n",
       "      <td>35</td>\n",
       "      <td>148</td>\n",
       "      <td>1</td>\n",
       "      <td>0</td>\n",
       "      <td>222.3</td>\n",
       "      <td>8.6</td>\n",
       "      <td>25.19</td>\n",
       "      <td>62</td>\n",
       "      <td>3</td>\n",
       "      <td>3.0</td>\n",
       "      <td>2</td>\n",
       "    </tr>\n",
       "    <tr>\n",
       "      <th>1362</th>\n",
       "      <td>1</td>\n",
       "      <td>42</td>\n",
       "      <td>98</td>\n",
       "      <td>0</td>\n",
       "      <td>0</td>\n",
       "      <td>241.5</td>\n",
       "      <td>12.1</td>\n",
       "      <td>27.37</td>\n",
       "      <td>113</td>\n",
       "      <td>4</td>\n",
       "      <td>4.0</td>\n",
       "      <td>4</td>\n",
       "    </tr>\n",
       "  </tbody>\n",
       "</table>\n",
       "</div>"
      ],
      "text/plain": [
       "      gender  age  no_of_days_subscribed  multi_screen  mail_subscribed  \\\n",
       "1813       1   35                    148             1                0   \n",
       "1362       1   42                     98             0                0   \n",
       "\n",
       "      weekly_mins_watched  minimum_daily_mins  maximum_daily_mins  \\\n",
       "1813                222.3                 8.6               25.19   \n",
       "1362                241.5                12.1               27.37   \n",
       "\n",
       "      weekly_max_night_mins  videos_watched  maximum_days_inactive  \\\n",
       "1813                     62               3                    3.0   \n",
       "1362                    113               4                    4.0   \n",
       "\n",
       "      customer_support_calls  \n",
       "1813                       2  \n",
       "1362                       4  "
      ]
     },
     "execution_count": 23,
     "metadata": {},
     "output_type": "execute_result"
    }
   ],
   "source": [
    "X.head(2)"
   ]
  },
  {
   "cell_type": "markdown",
   "id": "3ecb4610-f180-4a14-94be-1df1cf726851",
   "metadata": {},
   "source": [
    "*Scaling is a crucial preprocessing step that can help improve the performance and convergence of many machine learning algorithms. It ensures that all features contribute equally to the model, prevents features with larger scales from dominating*"
   ]
  },
  {
   "cell_type": "code",
   "execution_count": 24,
   "id": "029de39d",
   "metadata": {},
   "outputs": [],
   "source": [
    "sc = StandardScaler()   # Bringing the mean to 0 and variance to 1, so as to have a non-noisy optimization\n",
    "X = sc.fit_transform(X)\n",
    "X = sc.transform(X)"
   ]
  },
  {
   "cell_type": "code",
   "execution_count": 25,
   "id": "fff7a3ab",
   "metadata": {},
   "outputs": [
    {
     "data": {
      "text/plain": [
       "array([[ 0.914526  , -3.64278642, -2.49377785, ..., -1.91821933,\n",
       "        -4.66177364, -1.11056583],\n",
       "       [ 0.914526  , -3.58230119, -2.52651659, ..., -1.77079908,\n",
       "        -3.03689902, -0.34254207],\n",
       "       [-3.08881506, -3.60822343, -2.55401713, ..., -1.77079908,\n",
       "        -6.28664826, -1.49457771],\n",
       "       ...,\n",
       "       [-3.08881506, -3.41812701, -2.53306434, ..., -2.06563959,\n",
       "        -6.28664826, -0.34254207],\n",
       "       [-3.08881506, -3.55637895, -2.54092164, ..., -1.62337882,\n",
       "        -3.03689902, -1.49457771],\n",
       "       [-3.08881506, -3.59094194, -2.53830254, ..., -1.18111806,\n",
       "        -6.28664826, -1.87858958]])"
      ]
     },
     "execution_count": 25,
     "metadata": {},
     "output_type": "execute_result"
    }
   ],
   "source": [
    "X"
   ]
  },
  {
   "cell_type": "code",
   "execution_count": 26,
   "id": "e5799f30-8a92-4c5b-8909-d4d336266ffa",
   "metadata": {},
   "outputs": [
    {
     "data": {
      "text/html": [
       "<div>\n",
       "<style scoped>\n",
       "    .dataframe tbody tr th:only-of-type {\n",
       "        vertical-align: middle;\n",
       "    }\n",
       "\n",
       "    .dataframe tbody tr th {\n",
       "        vertical-align: top;\n",
       "    }\n",
       "\n",
       "    .dataframe thead th {\n",
       "        text-align: right;\n",
       "    }\n",
       "</style>\n",
       "<table border=\"1\" class=\"dataframe\">\n",
       "  <thead>\n",
       "    <tr style=\"text-align: right;\">\n",
       "      <th></th>\n",
       "      <th>gender</th>\n",
       "      <th>age</th>\n",
       "      <th>no_of_days_subscribed</th>\n",
       "      <th>multi_screen</th>\n",
       "      <th>mail_subscribed</th>\n",
       "      <th>weekly_mins_watched</th>\n",
       "      <th>minimum_daily_mins</th>\n",
       "      <th>maximum_daily_mins</th>\n",
       "      <th>weekly_max_night_mins</th>\n",
       "      <th>videos_watched</th>\n",
       "      <th>maximum_days_inactive</th>\n",
       "      <th>customer_support_calls</th>\n",
       "      <th>churn</th>\n",
       "    </tr>\n",
       "  </thead>\n",
       "  <tbody>\n",
       "    <tr>\n",
       "      <th>1813</th>\n",
       "      <td>1</td>\n",
       "      <td>35</td>\n",
       "      <td>148</td>\n",
       "      <td>1</td>\n",
       "      <td>0</td>\n",
       "      <td>222.30</td>\n",
       "      <td>8.6</td>\n",
       "      <td>25.19</td>\n",
       "      <td>62</td>\n",
       "      <td>3</td>\n",
       "      <td>3.0</td>\n",
       "      <td>2</td>\n",
       "      <td>0.0</td>\n",
       "    </tr>\n",
       "    <tr>\n",
       "      <th>1362</th>\n",
       "      <td>1</td>\n",
       "      <td>42</td>\n",
       "      <td>98</td>\n",
       "      <td>0</td>\n",
       "      <td>0</td>\n",
       "      <td>241.50</td>\n",
       "      <td>12.1</td>\n",
       "      <td>27.37</td>\n",
       "      <td>113</td>\n",
       "      <td>4</td>\n",
       "      <td>4.0</td>\n",
       "      <td>4</td>\n",
       "      <td>0.0</td>\n",
       "    </tr>\n",
       "    <tr>\n",
       "      <th>389</th>\n",
       "      <td>0</td>\n",
       "      <td>39</td>\n",
       "      <td>56</td>\n",
       "      <td>0</td>\n",
       "      <td>0</td>\n",
       "      <td>379.80</td>\n",
       "      <td>4.4</td>\n",
       "      <td>43.04</td>\n",
       "      <td>133</td>\n",
       "      <td>4</td>\n",
       "      <td>2.0</td>\n",
       "      <td>1</td>\n",
       "      <td>0.0</td>\n",
       "    </tr>\n",
       "    <tr>\n",
       "      <th>1203</th>\n",
       "      <td>1</td>\n",
       "      <td>42</td>\n",
       "      <td>37</td>\n",
       "      <td>0</td>\n",
       "      <td>0</td>\n",
       "      <td>350.55</td>\n",
       "      <td>12.0</td>\n",
       "      <td>39.73</td>\n",
       "      <td>101</td>\n",
       "      <td>2</td>\n",
       "      <td>4.0</td>\n",
       "      <td>2</td>\n",
       "      <td>0.0</td>\n",
       "    </tr>\n",
       "    <tr>\n",
       "      <th>1710</th>\n",
       "      <td>1</td>\n",
       "      <td>44</td>\n",
       "      <td>63</td>\n",
       "      <td>0</td>\n",
       "      <td>0</td>\n",
       "      <td>246.75</td>\n",
       "      <td>11.2</td>\n",
       "      <td>27.97</td>\n",
       "      <td>97</td>\n",
       "      <td>2</td>\n",
       "      <td>4.0</td>\n",
       "      <td>0</td>\n",
       "      <td>0.0</td>\n",
       "    </tr>\n",
       "    <tr>\n",
       "      <th>...</th>\n",
       "      <td>...</td>\n",
       "      <td>...</td>\n",
       "      <td>...</td>\n",
       "      <td>...</td>\n",
       "      <td>...</td>\n",
       "      <td>...</td>\n",
       "      <td>...</td>\n",
       "      <td>...</td>\n",
       "      <td>...</td>\n",
       "      <td>...</td>\n",
       "      <td>...</td>\n",
       "      <td>...</td>\n",
       "      <td>...</td>\n",
       "    </tr>\n",
       "    <tr>\n",
       "      <th>1759</th>\n",
       "      <td>1</td>\n",
       "      <td>34</td>\n",
       "      <td>89</td>\n",
       "      <td>0</td>\n",
       "      <td>0</td>\n",
       "      <td>455.85</td>\n",
       "      <td>5.3</td>\n",
       "      <td>51.66</td>\n",
       "      <td>89</td>\n",
       "      <td>3</td>\n",
       "      <td>2.0</td>\n",
       "      <td>1</td>\n",
       "      <td>1.0</td>\n",
       "    </tr>\n",
       "    <tr>\n",
       "      <th>845</th>\n",
       "      <td>1</td>\n",
       "      <td>37</td>\n",
       "      <td>122</td>\n",
       "      <td>0</td>\n",
       "      <td>1</td>\n",
       "      <td>262.35</td>\n",
       "      <td>13.5</td>\n",
       "      <td>29.73</td>\n",
       "      <td>116</td>\n",
       "      <td>3</td>\n",
       "      <td>4.0</td>\n",
       "      <td>1</td>\n",
       "      <td>1.0</td>\n",
       "    </tr>\n",
       "    <tr>\n",
       "      <th>602</th>\n",
       "      <td>0</td>\n",
       "      <td>61</td>\n",
       "      <td>88</td>\n",
       "      <td>1</td>\n",
       "      <td>0</td>\n",
       "      <td>352.65</td>\n",
       "      <td>7.2</td>\n",
       "      <td>39.97</td>\n",
       "      <td>76</td>\n",
       "      <td>2</td>\n",
       "      <td>2.0</td>\n",
       "      <td>4</td>\n",
       "      <td>1.0</td>\n",
       "    </tr>\n",
       "    <tr>\n",
       "      <th>22</th>\n",
       "      <td>0</td>\n",
       "      <td>45</td>\n",
       "      <td>76</td>\n",
       "      <td>0</td>\n",
       "      <td>0</td>\n",
       "      <td>395.10</td>\n",
       "      <td>11.4</td>\n",
       "      <td>44.78</td>\n",
       "      <td>101</td>\n",
       "      <td>5</td>\n",
       "      <td>4.0</td>\n",
       "      <td>1</td>\n",
       "      <td>1.0</td>\n",
       "    </tr>\n",
       "    <tr>\n",
       "      <th>43</th>\n",
       "      <td>0</td>\n",
       "      <td>41</td>\n",
       "      <td>80</td>\n",
       "      <td>0</td>\n",
       "      <td>0</td>\n",
       "      <td>483.45</td>\n",
       "      <td>6.7</td>\n",
       "      <td>54.79</td>\n",
       "      <td>123</td>\n",
       "      <td>8</td>\n",
       "      <td>2.0</td>\n",
       "      <td>0</td>\n",
       "      <td>1.0</td>\n",
       "    </tr>\n",
       "  </tbody>\n",
       "</table>\n",
       "<p>1800 rows × 13 columns</p>\n",
       "</div>"
      ],
      "text/plain": [
       "      gender  age  no_of_days_subscribed  multi_screen  mail_subscribed  \\\n",
       "1813       1   35                    148             1                0   \n",
       "1362       1   42                     98             0                0   \n",
       "389        0   39                     56             0                0   \n",
       "1203       1   42                     37             0                0   \n",
       "1710       1   44                     63             0                0   \n",
       "...      ...  ...                    ...           ...              ...   \n",
       "1759       1   34                     89             0                0   \n",
       "845        1   37                    122             0                1   \n",
       "602        0   61                     88             1                0   \n",
       "22         0   45                     76             0                0   \n",
       "43         0   41                     80             0                0   \n",
       "\n",
       "      weekly_mins_watched  minimum_daily_mins  maximum_daily_mins  \\\n",
       "1813               222.30                 8.6               25.19   \n",
       "1362               241.50                12.1               27.37   \n",
       "389                379.80                 4.4               43.04   \n",
       "1203               350.55                12.0               39.73   \n",
       "1710               246.75                11.2               27.97   \n",
       "...                   ...                 ...                 ...   \n",
       "1759               455.85                 5.3               51.66   \n",
       "845                262.35                13.5               29.73   \n",
       "602                352.65                 7.2               39.97   \n",
       "22                 395.10                11.4               44.78   \n",
       "43                 483.45                 6.7               54.79   \n",
       "\n",
       "      weekly_max_night_mins  videos_watched  maximum_days_inactive  \\\n",
       "1813                     62               3                    3.0   \n",
       "1362                    113               4                    4.0   \n",
       "389                     133               4                    2.0   \n",
       "1203                    101               2                    4.0   \n",
       "1710                     97               2                    4.0   \n",
       "...                     ...             ...                    ...   \n",
       "1759                     89               3                    2.0   \n",
       "845                     116               3                    4.0   \n",
       "602                      76               2                    2.0   \n",
       "22                      101               5                    4.0   \n",
       "43                      123               8                    2.0   \n",
       "\n",
       "      customer_support_calls  churn  \n",
       "1813                       2    0.0  \n",
       "1362                       4    0.0  \n",
       "389                        1    0.0  \n",
       "1203                       2    0.0  \n",
       "1710                       0    0.0  \n",
       "...                      ...    ...  \n",
       "1759                       1    1.0  \n",
       "845                        1    1.0  \n",
       "602                        4    1.0  \n",
       "22                         1    1.0  \n",
       "43                         0    1.0  \n",
       "\n",
       "[1800 rows x 13 columns]"
      ]
     },
     "execution_count": 26,
     "metadata": {},
     "output_type": "execute_result"
    }
   ],
   "source": [
    "df2"
   ]
  },
  {
   "cell_type": "markdown",
   "id": "5b567a4c-d93e-4b94-b562-68b65c69deda",
   "metadata": {},
   "source": [
    "*All the churn 0s & 1s are together, that is why we reset the index*"
   ]
  },
  {
   "cell_type": "code",
   "execution_count": 27,
   "id": "75349117",
   "metadata": {},
   "outputs": [],
   "source": [
    "df2 = df2.sample(frac=1).reset_index(drop=True)"
   ]
  },
  {
   "cell_type": "code",
   "execution_count": 28,
   "id": "39b583fc-d1fc-4faa-b137-fa66aa600a03",
   "metadata": {},
   "outputs": [
    {
     "data": {
      "text/html": [
       "<div>\n",
       "<style scoped>\n",
       "    .dataframe tbody tr th:only-of-type {\n",
       "        vertical-align: middle;\n",
       "    }\n",
       "\n",
       "    .dataframe tbody tr th {\n",
       "        vertical-align: top;\n",
       "    }\n",
       "\n",
       "    .dataframe thead th {\n",
       "        text-align: right;\n",
       "    }\n",
       "</style>\n",
       "<table border=\"1\" class=\"dataframe\">\n",
       "  <thead>\n",
       "    <tr style=\"text-align: right;\">\n",
       "      <th></th>\n",
       "      <th>gender</th>\n",
       "      <th>age</th>\n",
       "      <th>no_of_days_subscribed</th>\n",
       "      <th>multi_screen</th>\n",
       "      <th>mail_subscribed</th>\n",
       "      <th>weekly_mins_watched</th>\n",
       "      <th>minimum_daily_mins</th>\n",
       "      <th>maximum_daily_mins</th>\n",
       "      <th>weekly_max_night_mins</th>\n",
       "      <th>videos_watched</th>\n",
       "      <th>maximum_days_inactive</th>\n",
       "      <th>customer_support_calls</th>\n",
       "      <th>churn</th>\n",
       "    </tr>\n",
       "  </thead>\n",
       "  <tbody>\n",
       "    <tr>\n",
       "      <th>0</th>\n",
       "      <td>0</td>\n",
       "      <td>40</td>\n",
       "      <td>86</td>\n",
       "      <td>0</td>\n",
       "      <td>1</td>\n",
       "      <td>338.25</td>\n",
       "      <td>9.8</td>\n",
       "      <td>38.34</td>\n",
       "      <td>81</td>\n",
       "      <td>2</td>\n",
       "      <td>3.0</td>\n",
       "      <td>0</td>\n",
       "      <td>0.0</td>\n",
       "    </tr>\n",
       "    <tr>\n",
       "      <th>1</th>\n",
       "      <td>1</td>\n",
       "      <td>42</td>\n",
       "      <td>3</td>\n",
       "      <td>0</td>\n",
       "      <td>1</td>\n",
       "      <td>177.15</td>\n",
       "      <td>11.9</td>\n",
       "      <td>20.08</td>\n",
       "      <td>89</td>\n",
       "      <td>6</td>\n",
       "      <td>4.0</td>\n",
       "      <td>2</td>\n",
       "      <td>0.0</td>\n",
       "    </tr>\n",
       "    <tr>\n",
       "      <th>2</th>\n",
       "      <td>1</td>\n",
       "      <td>58</td>\n",
       "      <td>139</td>\n",
       "      <td>0</td>\n",
       "      <td>0</td>\n",
       "      <td>316.65</td>\n",
       "      <td>5.6</td>\n",
       "      <td>35.89</td>\n",
       "      <td>70</td>\n",
       "      <td>4</td>\n",
       "      <td>2.0</td>\n",
       "      <td>0</td>\n",
       "      <td>0.0</td>\n",
       "    </tr>\n",
       "    <tr>\n",
       "      <th>3</th>\n",
       "      <td>1</td>\n",
       "      <td>42</td>\n",
       "      <td>139</td>\n",
       "      <td>0</td>\n",
       "      <td>0</td>\n",
       "      <td>201.60</td>\n",
       "      <td>10.2</td>\n",
       "      <td>22.85</td>\n",
       "      <td>125</td>\n",
       "      <td>2</td>\n",
       "      <td>3.0</td>\n",
       "      <td>5</td>\n",
       "      <td>1.0</td>\n",
       "    </tr>\n",
       "    <tr>\n",
       "      <th>4</th>\n",
       "      <td>0</td>\n",
       "      <td>31</td>\n",
       "      <td>85</td>\n",
       "      <td>0</td>\n",
       "      <td>0</td>\n",
       "      <td>389.70</td>\n",
       "      <td>5.4</td>\n",
       "      <td>44.17</td>\n",
       "      <td>72</td>\n",
       "      <td>1</td>\n",
       "      <td>2.0</td>\n",
       "      <td>0</td>\n",
       "      <td>0.0</td>\n",
       "    </tr>\n",
       "    <tr>\n",
       "      <th>...</th>\n",
       "      <td>...</td>\n",
       "      <td>...</td>\n",
       "      <td>...</td>\n",
       "      <td>...</td>\n",
       "      <td>...</td>\n",
       "      <td>...</td>\n",
       "      <td>...</td>\n",
       "      <td>...</td>\n",
       "      <td>...</td>\n",
       "      <td>...</td>\n",
       "      <td>...</td>\n",
       "      <td>...</td>\n",
       "      <td>...</td>\n",
       "    </tr>\n",
       "    <tr>\n",
       "      <th>1795</th>\n",
       "      <td>0</td>\n",
       "      <td>39</td>\n",
       "      <td>46</td>\n",
       "      <td>0</td>\n",
       "      <td>0</td>\n",
       "      <td>386.10</td>\n",
       "      <td>13.4</td>\n",
       "      <td>43.76</td>\n",
       "      <td>107</td>\n",
       "      <td>5</td>\n",
       "      <td>4.0</td>\n",
       "      <td>2</td>\n",
       "      <td>1.0</td>\n",
       "    </tr>\n",
       "    <tr>\n",
       "      <th>1796</th>\n",
       "      <td>0</td>\n",
       "      <td>27</td>\n",
       "      <td>116</td>\n",
       "      <td>0</td>\n",
       "      <td>1</td>\n",
       "      <td>402.90</td>\n",
       "      <td>11.6</td>\n",
       "      <td>45.66</td>\n",
       "      <td>106</td>\n",
       "      <td>3</td>\n",
       "      <td>4.0</td>\n",
       "      <td>2</td>\n",
       "      <td>0.0</td>\n",
       "    </tr>\n",
       "    <tr>\n",
       "      <th>1797</th>\n",
       "      <td>1</td>\n",
       "      <td>70</td>\n",
       "      <td>119</td>\n",
       "      <td>0</td>\n",
       "      <td>0</td>\n",
       "      <td>122.85</td>\n",
       "      <td>8.9</td>\n",
       "      <td>13.92</td>\n",
       "      <td>125</td>\n",
       "      <td>1</td>\n",
       "      <td>3.0</td>\n",
       "      <td>2</td>\n",
       "      <td>1.0</td>\n",
       "    </tr>\n",
       "    <tr>\n",
       "      <th>1798</th>\n",
       "      <td>0</td>\n",
       "      <td>35</td>\n",
       "      <td>97</td>\n",
       "      <td>0</td>\n",
       "      <td>0</td>\n",
       "      <td>414.15</td>\n",
       "      <td>8.9</td>\n",
       "      <td>46.94</td>\n",
       "      <td>73</td>\n",
       "      <td>4</td>\n",
       "      <td>3.0</td>\n",
       "      <td>0</td>\n",
       "      <td>1.0</td>\n",
       "    </tr>\n",
       "    <tr>\n",
       "      <th>1799</th>\n",
       "      <td>0</td>\n",
       "      <td>41</td>\n",
       "      <td>65</td>\n",
       "      <td>0</td>\n",
       "      <td>0</td>\n",
       "      <td>368.55</td>\n",
       "      <td>4.2</td>\n",
       "      <td>41.77</td>\n",
       "      <td>117</td>\n",
       "      <td>5</td>\n",
       "      <td>2.0</td>\n",
       "      <td>4</td>\n",
       "      <td>1.0</td>\n",
       "    </tr>\n",
       "  </tbody>\n",
       "</table>\n",
       "<p>1800 rows × 13 columns</p>\n",
       "</div>"
      ],
      "text/plain": [
       "      gender  age  no_of_days_subscribed  multi_screen  mail_subscribed  \\\n",
       "0          0   40                     86             0                1   \n",
       "1          1   42                      3             0                1   \n",
       "2          1   58                    139             0                0   \n",
       "3          1   42                    139             0                0   \n",
       "4          0   31                     85             0                0   \n",
       "...      ...  ...                    ...           ...              ...   \n",
       "1795       0   39                     46             0                0   \n",
       "1796       0   27                    116             0                1   \n",
       "1797       1   70                    119             0                0   \n",
       "1798       0   35                     97             0                0   \n",
       "1799       0   41                     65             0                0   \n",
       "\n",
       "      weekly_mins_watched  minimum_daily_mins  maximum_daily_mins  \\\n",
       "0                  338.25                 9.8               38.34   \n",
       "1                  177.15                11.9               20.08   \n",
       "2                  316.65                 5.6               35.89   \n",
       "3                  201.60                10.2               22.85   \n",
       "4                  389.70                 5.4               44.17   \n",
       "...                   ...                 ...                 ...   \n",
       "1795               386.10                13.4               43.76   \n",
       "1796               402.90                11.6               45.66   \n",
       "1797               122.85                 8.9               13.92   \n",
       "1798               414.15                 8.9               46.94   \n",
       "1799               368.55                 4.2               41.77   \n",
       "\n",
       "      weekly_max_night_mins  videos_watched  maximum_days_inactive  \\\n",
       "0                        81               2                    3.0   \n",
       "1                        89               6                    4.0   \n",
       "2                        70               4                    2.0   \n",
       "3                       125               2                    3.0   \n",
       "4                        72               1                    2.0   \n",
       "...                     ...             ...                    ...   \n",
       "1795                    107               5                    4.0   \n",
       "1796                    106               3                    4.0   \n",
       "1797                    125               1                    3.0   \n",
       "1798                     73               4                    3.0   \n",
       "1799                    117               5                    2.0   \n",
       "\n",
       "      customer_support_calls  churn  \n",
       "0                          0    0.0  \n",
       "1                          2    0.0  \n",
       "2                          0    0.0  \n",
       "3                          5    1.0  \n",
       "4                          0    0.0  \n",
       "...                      ...    ...  \n",
       "1795                       2    1.0  \n",
       "1796                       2    0.0  \n",
       "1797                       2    1.0  \n",
       "1798                       0    1.0  \n",
       "1799                       4    1.0  \n",
       "\n",
       "[1800 rows x 13 columns]"
      ]
     },
     "execution_count": 28,
     "metadata": {},
     "output_type": "execute_result"
    }
   ],
   "source": [
    "df2"
   ]
  },
  {
   "cell_type": "code",
   "execution_count": 29,
   "id": "0b58a60a-1e63-48ab-b99d-7354c1bf4cd3",
   "metadata": {},
   "outputs": [
    {
     "data": {
      "text/plain": [
       "(1800, 12)"
      ]
     },
     "execution_count": 29,
     "metadata": {},
     "output_type": "execute_result"
    }
   ],
   "source": [
    "X.shape"
   ]
  },
  {
   "cell_type": "code",
   "execution_count": 30,
   "id": "1f0710d5",
   "metadata": {},
   "outputs": [],
   "source": [
    "n_samples, n_features = X.shape ##Storing the values in two parts as it will easy later to feed the model "
   ]
  },
  {
   "cell_type": "code",
   "execution_count": 31,
   "id": "9e9dc21a",
   "metadata": {},
   "outputs": [],
   "source": [
    "Y = df2[\"churn\"]"
   ]
  },
  {
   "cell_type": "code",
   "execution_count": 32,
   "id": "da9fe590",
   "metadata": {},
   "outputs": [],
   "source": [
    "import sklearn\n",
    "from sklearn.model_selection import train_test_split"
   ]
  },
  {
   "cell_type": "code",
   "execution_count": 33,
   "id": "064b1eb3",
   "metadata": {},
   "outputs": [],
   "source": [
    "X_train, X_test, y_train, y_test = train_test_split(X, Y, test_size=0.30, random_state=42, stratify = Y)"
   ]
  },
  {
   "cell_type": "code",
   "execution_count": 34,
   "id": "f58d352e",
   "metadata": {},
   "outputs": [
    {
     "name": "stdout",
     "output_type": "stream",
     "text": [
      "630\n",
      "630\n"
     ]
    }
   ],
   "source": [
    "print((y_train == 1).sum())\n",
    "print((y_train == 0).sum())"
   ]
  },
  {
   "cell_type": "code",
   "execution_count": 35,
   "id": "5b06fbe9",
   "metadata": {},
   "outputs": [
    {
     "name": "stdout",
     "output_type": "stream",
     "text": [
      "<class 'numpy.ndarray'>\n",
      "<class 'numpy.ndarray'>\n",
      "<class 'numpy.ndarray'>\n",
      "<class 'numpy.ndarray'>\n"
     ]
    }
   ],
   "source": [
    "print(type(X_train))\n",
    "print(type(X_test))\n",
    "print(type(y_train.values))\n",
    "print(type(y_test.values))"
   ]
  },
  {
   "cell_type": "markdown",
   "id": "2dc89efc",
   "metadata": {},
   "source": [
    "*convert all of them to the tensor as PyTorch works on Tensor*"
   ]
  },
  {
   "cell_type": "code",
   "execution_count": 36,
   "id": "5171b900",
   "metadata": {},
   "outputs": [],
   "source": [
    "X_train = torch.from_numpy(X_train.astype(np.float32))\n",
    "X_test = torch.from_numpy(X_test.astype(np.float32))"
   ]
  },
  {
   "cell_type": "code",
   "execution_count": 37,
   "id": "7d8348ae",
   "metadata": {},
   "outputs": [],
   "source": [
    "y_train = torch.from_numpy(y_train.values.astype(np.float32))\n",
    "y_test = torch.from_numpy(y_test.values.astype(np.float32))"
   ]
  },
  {
   "cell_type": "code",
   "execution_count": 38,
   "id": "89664f81-b53c-40ec-9724-31242d6fdbba",
   "metadata": {},
   "outputs": [
    {
     "data": {
      "text/plain": [
       "tensor([-3.0888, -3.6601, -2.5167, -1.6932, -1.9478, -3.1301, -3.7982, -3.1020,\n",
       "        -5.0388, -2.2131, -4.6618, -1.4946])"
      ]
     },
     "execution_count": 38,
     "metadata": {},
     "output_type": "execute_result"
    }
   ],
   "source": [
    "X_train[0]"
   ]
  },
  {
   "cell_type": "code",
   "execution_count": 39,
   "id": "13031547-414b-4f2c-9987-fc4186793853",
   "metadata": {},
   "outputs": [
    {
     "data": {
      "text/plain": [
       "tensor(1.)"
      ]
     },
     "execution_count": 39,
     "metadata": {},
     "output_type": "execute_result"
    }
   ],
   "source": [
    "y_train[0]"
   ]
  },
  {
   "cell_type": "code",
   "execution_count": 40,
   "id": "777b7244-4332-45bd-af74-8c3df47b0458",
   "metadata": {},
   "outputs": [
    {
     "data": {
      "text/plain": [
       "tensor([1., 0., 1.,  ..., 1., 1., 0.])"
      ]
     },
     "execution_count": 40,
     "metadata": {},
     "output_type": "execute_result"
    }
   ],
   "source": [
    "y_train"
   ]
  },
  {
   "cell_type": "code",
   "execution_count": 41,
   "id": "3f803859-7e73-4999-be27-b61dbec4ec51",
   "metadata": {},
   "outputs": [
    {
     "data": {
      "text/plain": [
       "torch.Size([1260])"
      ]
     },
     "execution_count": 41,
     "metadata": {},
     "output_type": "execute_result"
    }
   ],
   "source": [
    "y_train.shape"
   ]
  },
  {
   "cell_type": "code",
   "execution_count": 42,
   "id": "ff2cb8d7-ac1a-425c-8398-8e7a78a4dd52",
   "metadata": {},
   "outputs": [
    {
     "data": {
      "text/plain": [
       "1"
      ]
     },
     "execution_count": 42,
     "metadata": {},
     "output_type": "execute_result"
    }
   ],
   "source": [
    "y_train.ndim"
   ]
  },
  {
   "cell_type": "markdown",
   "id": "90b314f6-38cf-456c-9471-451e203e9025",
   "metadata": {},
   "source": [
    "#### Making output vector Y as a column vector for matrix multiplications"
   ]
  },
  {
   "cell_type": "code",
   "execution_count": 43,
   "id": "f7cac759",
   "metadata": {},
   "outputs": [],
   "source": [
    "y_train = y_train.view(y_train.shape[0], 1)\n",
    "y_test = y_test.view(y_test.shape[0], 1)"
   ]
  },
  {
   "cell_type": "markdown",
   "id": "5d298b9e",
   "metadata": {},
   "source": [
    "### 4. Model Building: Creating Logistic Regression model in Pytorch\n",
    "#### Logistic Regression is a Linear model so we will use Pytorch's [nn.linear] module which is used for performing linear operations  then we will pass the data to sigmoid function which separates a binary data in two parts using probability."
   ]
  },
  {
   "cell_type": "code",
   "execution_count": 44,
   "id": "39a25164",
   "metadata": {},
   "outputs": [],
   "source": [
    "## Define the LogisticRegressionModel class inheriting from torch.nn.Module\n",
    "class LogisticRegression(nn.Module):\n",
    "    #Constructor method for the class. This method is called when an object(instance) of the class is created.\n",
    "    def __init__(self, n_input_features):\n",
    "        #Calls the constructor of the parent/base class (torch.nn.Module) to initialize the base class properly.\n",
    "        super(LogisticRegression, self).__init__()\n",
    "        self.linear = nn.Linear(n_input_features,1) #output is single value\n",
    "    #This method is called when you pass data through the model\n",
    "    def forward(self, x):\n",
    "        #Output is passed via sigmoid function to introduce non-linearity & squashes values between 0 and 1.\n",
    "        #This characteristic makes it particularly useful when dealing with probabilities. \n",
    "        y_pred = torch.sigmoid(self.linear(x))\n",
    "        return y_pred"
   ]
  },
  {
   "cell_type": "code",
   "execution_count": 45,
   "id": "65e83ee9",
   "metadata": {},
   "outputs": [],
   "source": [
    "lr = LogisticRegression(n_features)"
   ]
  },
  {
   "cell_type": "code",
   "execution_count": 46,
   "id": "48cde2ab-753a-4955-a34b-d1da886031c5",
   "metadata": {},
   "outputs": [
    {
     "data": {
      "text/plain": [
       "<bound method Module.parameters of LogisticRegression(\n",
       "  (linear): Linear(in_features=12, out_features=1, bias=True)\n",
       ")>"
      ]
     },
     "execution_count": 46,
     "metadata": {},
     "output_type": "execute_result"
    }
   ],
   "source": [
    "lr.parameters"
   ]
  },
  {
   "cell_type": "code",
   "execution_count": 47,
   "id": "080e7512",
   "metadata": {},
   "outputs": [],
   "source": [
    "num_epochs = 500                                        \n",
    "# Traning the model for large number of epochs to see better results  \n",
    "learning_rate = 0.01                               \n",
    "criterion = nn.BCELoss()                                \n",
    "# We are working on lgistic regression so using Binary Cross Entropy\n",
    "optimizer = torch.optim.Adam(lr.parameters(), lr=learning_rate)  \n",
    "#optimizer = torch.optim.SGD(lr.parameters(), lr=learning_rate)      \n",
    "# Using ADAM optimizer to find local minima   "
   ]
  },
  {
   "cell_type": "markdown",
   "id": "acfe57a5-7435-498f-b8c8-fcf137effb60",
   "metadata": {},
   "source": [
    "*Using ADAM optimizer to find local minima. Parameters() tells optimizer which parameters of the model it should update during the training process & learning rate tells how much to change the model parameters with respect to the gradient of the loss function*"
   ]
  },
  {
   "cell_type": "code",
   "execution_count": 48,
   "id": "0befd8ea-479c-426b-be07-8036566bf62c",
   "metadata": {},
   "outputs": [
    {
     "name": "stdout",
     "output_type": "stream",
     "text": [
      "epoch: 30, loss = 0.6970\n",
      "epoch: 60, loss = 0.6927\n",
      "epoch: 90, loss = 0.6917\n",
      "epoch: 120, loss = 0.6909\n",
      "epoch: 150, loss = 0.6903\n",
      "epoch: 180, loss = 0.6898\n",
      "epoch: 210, loss = 0.6894\n",
      "epoch: 240, loss = 0.6892\n",
      "epoch: 270, loss = 0.6890\n",
      "epoch: 300, loss = 0.6889\n",
      "epoch: 330, loss = 0.6888\n",
      "epoch: 360, loss = 0.6888\n",
      "epoch: 390, loss = 0.6888\n",
      "epoch: 420, loss = 0.6887\n",
      "epoch: 450, loss = 0.6887\n",
      "epoch: 480, loss = 0.6887\n"
     ]
    }
   ],
   "source": [
    "for epoch in range(num_epochs):\n",
    "    y_pred = lr(X_train)\n",
    "    loss = criterion(y_pred, y_train)    \n",
    "    loss.backward()\n",
    "    ## Compute gradients of the loss with respect to parameters.\n",
    "    #The gradients tell us how much to adjust each parameter to reduce the loss by indicating the direction and magnitude of the parameter\n",
    "    optimizer.step()\n",
    "    #updates the model's parameters using the computed gradients. This is where the actual learning happens as the model adjusts its parameters to minimize the loss.\n",
    "    optimizer.zero_grad()\n",
    "    #Resets the gradients to zero for the next iteration. This is crucial because PyTorch accumulates gradients by default.\n",
    "    if (epoch+1) % 30 == 0:                                       \n",
    "        # printing loss values on every 30 epochs to keep track\n",
    "        print(f'epoch: {epoch+1}, loss = {loss.item():.4f}')"
   ]
  },
  {
   "cell_type": "code",
   "execution_count": 49,
   "id": "b52dd617",
   "metadata": {},
   "outputs": [
    {
     "name": "stdout",
     "output_type": "stream",
     "text": [
      "accuracy: 0.4833\n"
     ]
    }
   ],
   "source": [
    "with torch.no_grad(): #during evaluation, we're not interested in calculating gradients for backpropagation. Disabling gradients improves memory efficiency and computation speed.\n",
    "    y_predicted = lr(X_test)\n",
    "    y_predicted_cls = y_predicted.round()\n",
    "    #This compares the rounded predictions (y_predicted_cls) with the actual labels (y_test) element-wise using the eq function. The result is a tensor of True/False values indicating correct classifications.\n",
    "    #Sums the True value & divides it by total rows total number of samples in the test set \n",
    "    acc = y_predicted_cls.eq(y_test).sum() / float(y_test.shape[0])\n",
    "    print(f'accuracy: {acc.item():.4f}')"
   ]
  },
  {
   "cell_type": "code",
   "execution_count": 50,
   "id": "ef876103",
   "metadata": {},
   "outputs": [
    {
     "name": "stdout",
     "output_type": "stream",
     "text": [
      "              precision    recall  f1-score   support\n",
      "\n",
      "         0.0       0.48      0.46      0.47       270\n",
      "         1.0       0.48      0.51      0.50       270\n",
      "\n",
      "    accuracy                           0.48       540\n",
      "   macro avg       0.48      0.48      0.48       540\n",
      "weighted avg       0.48      0.48      0.48       540\n",
      "\n"
     ]
    }
   ],
   "source": [
    "#classification report\n",
    "from sklearn.metrics import classification_report\n",
    "print(classification_report(y_test, y_predicted_cls))"
   ]
  },
  {
   "cell_type": "code",
   "execution_count": 51,
   "id": "70624d7d",
   "metadata": {},
   "outputs": [
    {
     "name": "stdout",
     "output_type": "stream",
     "text": [
      "[[123 147]\n",
      " [132 138]]\n"
     ]
    }
   ],
   "source": [
    "#confusion matrix\n",
    "from sklearn.metrics import confusion_matrix\n",
    "confusion_matrix = confusion_matrix(y_test, y_predicted_cls)\n",
    "print(confusion_matrix)"
   ]
  },
  {
   "cell_type": "code",
   "execution_count": 52,
   "id": "bf3b3ede",
   "metadata": {},
   "outputs": [],
   "source": [
    "#It can be further optimized by hyperparameter tuning. This notebook is intended for understanding linear Regression with Pytorch"
   ]
  },
  {
   "cell_type": "code",
   "execution_count": null,
   "id": "dd3514e0-ae7b-4ada-a49e-b23a76b9a4f8",
   "metadata": {},
   "outputs": [],
   "source": []
  }
 ],
 "metadata": {
  "kernelspec": {
   "display_name": "Python 3 (ipykernel)",
   "language": "python",
   "name": "python3"
  },
  "language_info": {
   "codemirror_mode": {
    "name": "ipython",
    "version": 3
   },
   "file_extension": ".py",
   "mimetype": "text/x-python",
   "name": "python",
   "nbconvert_exporter": "python",
   "pygments_lexer": "ipython3",
   "version": "3.11.6"
  }
 },
 "nbformat": 4,
 "nbformat_minor": 5
}
