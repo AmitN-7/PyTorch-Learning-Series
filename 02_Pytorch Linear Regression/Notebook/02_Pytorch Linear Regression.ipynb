{
 "cells": [
  {
   "cell_type": "markdown",
   "id": "6e276da9",
   "metadata": {},
   "source": [
    "# Linear regression with Pytorch"
   ]
  },
  {
   "cell_type": "markdown",
   "id": "783a45e9",
   "metadata": {},
   "source": [
    "### 1. Importing relevant libraries"
   ]
  },
  {
   "cell_type": "code",
   "execution_count": 2,
   "id": "9f340e6b-b819-49fd-a129-879dc4d6a16c",
   "metadata": {},
   "outputs": [],
   "source": [
    "# !pip install matplotlib==3.8.2\n",
    "# !pip install numpy==1.26.2\n",
    "# !pip install pandas==2.1.4\n",
    "# !pip install scikit_learn==1.4.2\n",
    "# !pip install seaborn==0.13.2\n",
    "# !pip install torch==2.2.2\n",
    "# !pip install torchvision==0.17.2"
   ]
  },
  {
   "cell_type": "code",
   "execution_count": 3,
   "id": "7cba024d",
   "metadata": {},
   "outputs": [],
   "source": [
    "import pandas as pd\n",
    "import numpy as np\n",
    "import torch\n",
    "import torch.nn as nn\n",
    "from sklearn import preprocessing\n",
    "from sklearn.preprocessing import MinMaxScaler, StandardScaler\n",
    "import sklearn\n",
    "from sklearn.model_selection import train_test_split\n",
    "import matplotlib.pyplot as plt\n",
    "import seaborn as sns\n",
    "from warnings import filterwarnings\n",
    "filterwarnings('ignore')"
   ]
  },
  {
   "cell_type": "code",
   "execution_count": 4,
   "id": "5bdb9690",
   "metadata": {},
   "outputs": [],
   "source": [
    "df = pd.read_csv(\"../Input/data.csv\")"
   ]
  },
  {
   "cell_type": "code",
   "execution_count": 5,
   "id": "47c3e70a",
   "metadata": {},
   "outputs": [
    {
     "data": {
      "text/html": [
       "<div>\n",
       "<style scoped>\n",
       "    .dataframe tbody tr th:only-of-type {\n",
       "        vertical-align: middle;\n",
       "    }\n",
       "\n",
       "    .dataframe tbody tr th {\n",
       "        vertical-align: top;\n",
       "    }\n",
       "\n",
       "    .dataframe thead th {\n",
       "        text-align: right;\n",
       "    }\n",
       "</style>\n",
       "<table border=\"1\" class=\"dataframe\">\n",
       "  <thead>\n",
       "    <tr style=\"text-align: right;\">\n",
       "      <th></th>\n",
       "      <th>year</th>\n",
       "      <th>customer_id</th>\n",
       "      <th>phone_no</th>\n",
       "      <th>gender</th>\n",
       "      <th>age</th>\n",
       "      <th>no_of_days_subscribed</th>\n",
       "      <th>multi_screen</th>\n",
       "      <th>mail_subscribed</th>\n",
       "      <th>weekly_mins_watched</th>\n",
       "      <th>minimum_daily_mins</th>\n",
       "      <th>maximum_daily_mins</th>\n",
       "      <th>weekly_max_night_mins</th>\n",
       "      <th>videos_watched</th>\n",
       "      <th>maximum_days_inactive</th>\n",
       "      <th>customer_support_calls</th>\n",
       "      <th>churn</th>\n",
       "    </tr>\n",
       "  </thead>\n",
       "  <tbody>\n",
       "    <tr>\n",
       "      <th>1997</th>\n",
       "      <td>2015</td>\n",
       "      <td>998474</td>\n",
       "      <td>353-2080</td>\n",
       "      <td>NaN</td>\n",
       "      <td>53</td>\n",
       "      <td>94</td>\n",
       "      <td>no</td>\n",
       "      <td>no</td>\n",
       "      <td>128.85</td>\n",
       "      <td>15.6</td>\n",
       "      <td>14.60</td>\n",
       "      <td>110</td>\n",
       "      <td>16</td>\n",
       "      <td>5.0</td>\n",
       "      <td>0</td>\n",
       "      <td>0.0</td>\n",
       "    </tr>\n",
       "    <tr>\n",
       "      <th>1998</th>\n",
       "      <td>2015</td>\n",
       "      <td>998934</td>\n",
       "      <td>359-7788</td>\n",
       "      <td>Male</td>\n",
       "      <td>40</td>\n",
       "      <td>94</td>\n",
       "      <td>no</td>\n",
       "      <td>no</td>\n",
       "      <td>178.05</td>\n",
       "      <td>10.4</td>\n",
       "      <td>20.18</td>\n",
       "      <td>100</td>\n",
       "      <td>6</td>\n",
       "      <td>NaN</td>\n",
       "      <td>3</td>\n",
       "      <td>0.0</td>\n",
       "    </tr>\n",
       "    <tr>\n",
       "      <th>1999</th>\n",
       "      <td>2015</td>\n",
       "      <td>999961</td>\n",
       "      <td>414-1496</td>\n",
       "      <td>Male</td>\n",
       "      <td>37</td>\n",
       "      <td>73</td>\n",
       "      <td>no</td>\n",
       "      <td>no</td>\n",
       "      <td>326.70</td>\n",
       "      <td>10.3</td>\n",
       "      <td>37.03</td>\n",
       "      <td>89</td>\n",
       "      <td>6</td>\n",
       "      <td>3.0</td>\n",
       "      <td>1</td>\n",
       "      <td>1.0</td>\n",
       "    </tr>\n",
       "  </tbody>\n",
       "</table>\n",
       "</div>"
      ],
      "text/plain": [
       "      year  customer_id  phone_no gender  age  no_of_days_subscribed  \\\n",
       "1997  2015       998474  353-2080    NaN   53                     94   \n",
       "1998  2015       998934  359-7788   Male   40                     94   \n",
       "1999  2015       999961  414-1496   Male   37                     73   \n",
       "\n",
       "     multi_screen mail_subscribed  weekly_mins_watched  minimum_daily_mins  \\\n",
       "1997           no              no               128.85                15.6   \n",
       "1998           no              no               178.05                10.4   \n",
       "1999           no              no               326.70                10.3   \n",
       "\n",
       "      maximum_daily_mins  weekly_max_night_mins  videos_watched  \\\n",
       "1997               14.60                    110              16   \n",
       "1998               20.18                    100               6   \n",
       "1999               37.03                     89               6   \n",
       "\n",
       "      maximum_days_inactive  customer_support_calls  churn  \n",
       "1997                    5.0                       0    0.0  \n",
       "1998                    NaN                       3    0.0  \n",
       "1999                    3.0                       1    1.0  "
      ]
     },
     "execution_count": 5,
     "metadata": {},
     "output_type": "execute_result"
    }
   ],
   "source": [
    "df.tail(3) "
   ]
  },
  {
   "cell_type": "code",
   "execution_count": 6,
   "id": "9edd08e9-0a19-4620-be05-6c7503213b9b",
   "metadata": {},
   "outputs": [
    {
     "name": "stdout",
     "output_type": "stream",
     "text": [
      "<class 'pandas.core.frame.DataFrame'>\n",
      "RangeIndex: 2000 entries, 0 to 1999\n",
      "Data columns (total 16 columns):\n",
      " #   Column                  Non-Null Count  Dtype  \n",
      "---  ------                  --------------  -----  \n",
      " 0   year                    2000 non-null   int64  \n",
      " 1   customer_id             2000 non-null   int64  \n",
      " 2   phone_no                2000 non-null   object \n",
      " 3   gender                  1976 non-null   object \n",
      " 4   age                     2000 non-null   int64  \n",
      " 5   no_of_days_subscribed   2000 non-null   int64  \n",
      " 6   multi_screen            2000 non-null   object \n",
      " 7   mail_subscribed         2000 non-null   object \n",
      " 8   weekly_mins_watched     2000 non-null   float64\n",
      " 9   minimum_daily_mins      2000 non-null   float64\n",
      " 10  maximum_daily_mins      2000 non-null   float64\n",
      " 11  weekly_max_night_mins   2000 non-null   int64  \n",
      " 12  videos_watched          2000 non-null   int64  \n",
      " 13  maximum_days_inactive   1972 non-null   float64\n",
      " 14  customer_support_calls  2000 non-null   int64  \n",
      " 15  churn                   1965 non-null   float64\n",
      "dtypes: float64(5), int64(7), object(4)\n",
      "memory usage: 250.1+ KB\n"
     ]
    }
   ],
   "source": [
    "df.info()"
   ]
  },
  {
   "cell_type": "code",
   "execution_count": 7,
   "id": "95fee980-3be0-4847-ae62-87214e2b747e",
   "metadata": {},
   "outputs": [
    {
     "data": {
      "text/plain": [
       "(2000, 16)"
      ]
     },
     "execution_count": 7,
     "metadata": {},
     "output_type": "execute_result"
    }
   ],
   "source": [
    "df.shape"
   ]
  },
  {
   "cell_type": "markdown",
   "id": "aee9df42-0334-4569-b58a-c0b3c59a1f13",
   "metadata": {},
   "source": [
    "#### 2. Data Cleaning"
   ]
  },
  {
   "cell_type": "code",
   "execution_count": 8,
   "id": "e64909cb",
   "metadata": {},
   "outputs": [],
   "source": [
    "df = df.drop([\"year\", \"customer_id\", \"phone_no\"], axis=1) # removing the unwanted features"
   ]
  },
  {
   "cell_type": "code",
   "execution_count": 9,
   "id": "3678de03",
   "metadata": {},
   "outputs": [
    {
     "data": {
      "text/plain": [
       "(2000, 13)"
      ]
     },
     "execution_count": 9,
     "metadata": {},
     "output_type": "execute_result"
    }
   ],
   "source": [
    "df.shape"
   ]
  },
  {
   "cell_type": "code",
   "execution_count": 10,
   "id": "66069a22",
   "metadata": {},
   "outputs": [
    {
     "name": "stdout",
     "output_type": "stream",
     "text": [
      "Index(['gender', 'age', 'no_of_days_subscribed', 'multi_screen',\n",
      "       'mail_subscribed', 'weekly_mins_watched', 'minimum_daily_mins',\n",
      "       'maximum_daily_mins', 'weekly_max_night_mins', 'videos_watched',\n",
      "       'maximum_days_inactive', 'customer_support_calls', 'churn'],\n",
      "      dtype='object')\n"
     ]
    }
   ],
   "source": [
    "print(df.columns)  "
   ]
  },
  {
   "cell_type": "markdown",
   "id": "8923c898",
   "metadata": {},
   "source": [
    "##### Null Value Treatment: If we have null values then we need to work on that before feeding it to our model"
   ]
  },
  {
   "cell_type": "code",
   "execution_count": 11,
   "id": "27abb06e",
   "metadata": {},
   "outputs": [
    {
     "data": {
      "text/plain": [
       "gender                    24\n",
       "age                        0\n",
       "no_of_days_subscribed      0\n",
       "multi_screen               0\n",
       "mail_subscribed            0\n",
       "weekly_mins_watched        0\n",
       "minimum_daily_mins         0\n",
       "maximum_daily_mins         0\n",
       "weekly_max_night_mins      0\n",
       "videos_watched             0\n",
       "maximum_days_inactive     28\n",
       "customer_support_calls     0\n",
       "churn                     35\n",
       "dtype: int64"
      ]
     },
     "execution_count": 11,
     "metadata": {},
     "output_type": "execute_result"
    }
   ],
   "source": [
    "#checking null values in data\n",
    "df.isnull().sum()"
   ]
  },
  {
   "cell_type": "code",
   "execution_count": 12,
   "id": "67731b70",
   "metadata": {
    "scrolled": true
   },
   "outputs": [],
   "source": [
    "df1 = df.dropna()"
   ]
  },
  {
   "cell_type": "code",
   "execution_count": 13,
   "id": "ea6c906c",
   "metadata": {},
   "outputs": [
    {
     "data": {
      "text/plain": [
       "gender                    0\n",
       "age                       0\n",
       "no_of_days_subscribed     0\n",
       "multi_screen              0\n",
       "mail_subscribed           0\n",
       "weekly_mins_watched       0\n",
       "minimum_daily_mins        0\n",
       "maximum_daily_mins        0\n",
       "weekly_max_night_mins     0\n",
       "videos_watched            0\n",
       "maximum_days_inactive     0\n",
       "customer_support_calls    0\n",
       "churn                     0\n",
       "dtype: int64"
      ]
     },
     "execution_count": 13,
     "metadata": {},
     "output_type": "execute_result"
    }
   ],
   "source": [
    "df1.isnull().sum()"
   ]
  },
  {
   "cell_type": "code",
   "execution_count": 14,
   "id": "11bc5d3c",
   "metadata": {},
   "outputs": [
    {
     "data": {
      "text/plain": [
       "(1918, 13)"
      ]
     },
     "execution_count": 14,
     "metadata": {},
     "output_type": "execute_result"
    }
   ],
   "source": [
    "df1.shape "
   ]
  },
  {
   "cell_type": "markdown",
   "id": "63c157a0-726b-4b97-a466-1250cb4ff065",
   "metadata": {},
   "source": [
    "### 3.Data Preprocessing"
   ]
  },
  {
   "cell_type": "code",
   "execution_count": 15,
   "id": "a4a584f3",
   "metadata": {},
   "outputs": [
    {
     "data": {
      "text/html": [
       "<div>\n",
       "<style scoped>\n",
       "    .dataframe tbody tr th:only-of-type {\n",
       "        vertical-align: middle;\n",
       "    }\n",
       "\n",
       "    .dataframe tbody tr th {\n",
       "        vertical-align: top;\n",
       "    }\n",
       "\n",
       "    .dataframe thead th {\n",
       "        text-align: right;\n",
       "    }\n",
       "</style>\n",
       "<table border=\"1\" class=\"dataframe\">\n",
       "  <thead>\n",
       "    <tr style=\"text-align: right;\">\n",
       "      <th></th>\n",
       "      <th>gender</th>\n",
       "      <th>multi_screen</th>\n",
       "      <th>mail_subscribed</th>\n",
       "    </tr>\n",
       "  </thead>\n",
       "  <tbody>\n",
       "    <tr>\n",
       "      <th>0</th>\n",
       "      <td>Female</td>\n",
       "      <td>no</td>\n",
       "      <td>no</td>\n",
       "    </tr>\n",
       "    <tr>\n",
       "      <th>1</th>\n",
       "      <td>Female</td>\n",
       "      <td>no</td>\n",
       "      <td>no</td>\n",
       "    </tr>\n",
       "    <tr>\n",
       "      <th>2</th>\n",
       "      <td>Female</td>\n",
       "      <td>no</td>\n",
       "      <td>no</td>\n",
       "    </tr>\n",
       "    <tr>\n",
       "      <th>3</th>\n",
       "      <td>Female</td>\n",
       "      <td>no</td>\n",
       "      <td>yes</td>\n",
       "    </tr>\n",
       "    <tr>\n",
       "      <th>4</th>\n",
       "      <td>Female</td>\n",
       "      <td>no</td>\n",
       "      <td>no</td>\n",
       "    </tr>\n",
       "    <tr>\n",
       "      <th>...</th>\n",
       "      <td>...</td>\n",
       "      <td>...</td>\n",
       "      <td>...</td>\n",
       "    </tr>\n",
       "    <tr>\n",
       "      <th>1990</th>\n",
       "      <td>Male</td>\n",
       "      <td>no</td>\n",
       "      <td>no</td>\n",
       "    </tr>\n",
       "    <tr>\n",
       "      <th>1991</th>\n",
       "      <td>Male</td>\n",
       "      <td>yes</td>\n",
       "      <td>yes</td>\n",
       "    </tr>\n",
       "    <tr>\n",
       "      <th>1992</th>\n",
       "      <td>Female</td>\n",
       "      <td>no</td>\n",
       "      <td>yes</td>\n",
       "    </tr>\n",
       "    <tr>\n",
       "      <th>1996</th>\n",
       "      <td>Male</td>\n",
       "      <td>no</td>\n",
       "      <td>no</td>\n",
       "    </tr>\n",
       "    <tr>\n",
       "      <th>1999</th>\n",
       "      <td>Male</td>\n",
       "      <td>no</td>\n",
       "      <td>no</td>\n",
       "    </tr>\n",
       "  </tbody>\n",
       "</table>\n",
       "<p>1918 rows × 3 columns</p>\n",
       "</div>"
      ],
      "text/plain": [
       "      gender multi_screen mail_subscribed\n",
       "0     Female           no              no\n",
       "1     Female           no              no\n",
       "2     Female           no              no\n",
       "3     Female           no             yes\n",
       "4     Female           no              no\n",
       "...      ...          ...             ...\n",
       "1990    Male           no              no\n",
       "1991    Male          yes             yes\n",
       "1992  Female           no             yes\n",
       "1996    Male           no              no\n",
       "1999    Male           no              no\n",
       "\n",
       "[1918 rows x 3 columns]"
      ]
     },
     "execution_count": 15,
     "metadata": {},
     "output_type": "execute_result"
    }
   ],
   "source": [
    "df1[['gender', 'multi_screen', 'mail_subscribed']]"
   ]
  },
  {
   "cell_type": "markdown",
   "id": "0a56de3c",
   "metadata": {},
   "source": [
    "*Before feeding this to the model we need to encode the categroical variables*"
   ]
  },
  {
   "cell_type": "code",
   "execution_count": 16,
   "id": "ebf19352",
   "metadata": {},
   "outputs": [],
   "source": [
    "label_encoder = preprocessing.LabelEncoder()\n",
    "df1['gender']= label_encoder.fit_transform(df1['gender'])\n",
    "df1['multi_screen']= label_encoder.fit_transform(df1['multi_screen'])\n",
    "df1['mail_subscribed']= label_encoder.fit_transform(df1['mail_subscribed'])"
   ]
  },
  {
   "cell_type": "code",
   "execution_count": 17,
   "id": "75143ecb",
   "metadata": {
    "scrolled": true
   },
   "outputs": [
    {
     "data": {
      "text/html": [
       "<div>\n",
       "<style scoped>\n",
       "    .dataframe tbody tr th:only-of-type {\n",
       "        vertical-align: middle;\n",
       "    }\n",
       "\n",
       "    .dataframe tbody tr th {\n",
       "        vertical-align: top;\n",
       "    }\n",
       "\n",
       "    .dataframe thead th {\n",
       "        text-align: right;\n",
       "    }\n",
       "</style>\n",
       "<table border=\"1\" class=\"dataframe\">\n",
       "  <thead>\n",
       "    <tr style=\"text-align: right;\">\n",
       "      <th></th>\n",
       "      <th>gender</th>\n",
       "      <th>age</th>\n",
       "      <th>no_of_days_subscribed</th>\n",
       "      <th>multi_screen</th>\n",
       "      <th>mail_subscribed</th>\n",
       "      <th>weekly_mins_watched</th>\n",
       "      <th>minimum_daily_mins</th>\n",
       "      <th>maximum_daily_mins</th>\n",
       "      <th>weekly_max_night_mins</th>\n",
       "      <th>videos_watched</th>\n",
       "      <th>maximum_days_inactive</th>\n",
       "      <th>customer_support_calls</th>\n",
       "      <th>churn</th>\n",
       "    </tr>\n",
       "  </thead>\n",
       "  <tbody>\n",
       "    <tr>\n",
       "      <th>52</th>\n",
       "      <td>0</td>\n",
       "      <td>26</td>\n",
       "      <td>77</td>\n",
       "      <td>0</td>\n",
       "      <td>0</td>\n",
       "      <td>244.50</td>\n",
       "      <td>6.7</td>\n",
       "      <td>27.71</td>\n",
       "      <td>66</td>\n",
       "      <td>3</td>\n",
       "      <td>2.0</td>\n",
       "      <td>2</td>\n",
       "      <td>0.0</td>\n",
       "    </tr>\n",
       "    <tr>\n",
       "      <th>978</th>\n",
       "      <td>0</td>\n",
       "      <td>37</td>\n",
       "      <td>68</td>\n",
       "      <td>0</td>\n",
       "      <td>0</td>\n",
       "      <td>320.85</td>\n",
       "      <td>8.4</td>\n",
       "      <td>36.36</td>\n",
       "      <td>97</td>\n",
       "      <td>3</td>\n",
       "      <td>3.0</td>\n",
       "      <td>1</td>\n",
       "      <td>1.0</td>\n",
       "    </tr>\n",
       "    <tr>\n",
       "      <th>1315</th>\n",
       "      <td>0</td>\n",
       "      <td>58</td>\n",
       "      <td>90</td>\n",
       "      <td>0</td>\n",
       "      <td>1</td>\n",
       "      <td>225.15</td>\n",
       "      <td>5.8</td>\n",
       "      <td>25.52</td>\n",
       "      <td>97</td>\n",
       "      <td>4</td>\n",
       "      <td>2.0</td>\n",
       "      <td>1</td>\n",
       "      <td>0.0</td>\n",
       "    </tr>\n",
       "    <tr>\n",
       "      <th>1796</th>\n",
       "      <td>1</td>\n",
       "      <td>62</td>\n",
       "      <td>165</td>\n",
       "      <td>0</td>\n",
       "      <td>0</td>\n",
       "      <td>324.90</td>\n",
       "      <td>12.4</td>\n",
       "      <td>36.82</td>\n",
       "      <td>123</td>\n",
       "      <td>8</td>\n",
       "      <td>4.0</td>\n",
       "      <td>0</td>\n",
       "      <td>0.0</td>\n",
       "    </tr>\n",
       "  </tbody>\n",
       "</table>\n",
       "</div>"
      ],
      "text/plain": [
       "      gender  age  no_of_days_subscribed  multi_screen  mail_subscribed  \\\n",
       "52         0   26                     77             0                0   \n",
       "978        0   37                     68             0                0   \n",
       "1315       0   58                     90             0                1   \n",
       "1796       1   62                    165             0                0   \n",
       "\n",
       "      weekly_mins_watched  minimum_daily_mins  maximum_daily_mins  \\\n",
       "52                 244.50                 6.7               27.71   \n",
       "978                320.85                 8.4               36.36   \n",
       "1315               225.15                 5.8               25.52   \n",
       "1796               324.90                12.4               36.82   \n",
       "\n",
       "      weekly_max_night_mins  videos_watched  maximum_days_inactive  \\\n",
       "52                       66               3                    2.0   \n",
       "978                      97               3                    3.0   \n",
       "1315                     97               4                    2.0   \n",
       "1796                    123               8                    4.0   \n",
       "\n",
       "      customer_support_calls  churn  \n",
       "52                         2    0.0  \n",
       "978                        1    1.0  \n",
       "1315                       1    0.0  \n",
       "1796                       0    0.0  "
      ]
     },
     "execution_count": 17,
     "metadata": {},
     "output_type": "execute_result"
    }
   ],
   "source": [
    "df1.sample(4)"
   ]
  },
  {
   "cell_type": "markdown",
   "id": "331c163a",
   "metadata": {},
   "source": [
    "*Independent columns are used for feeding the model for training by keeping it into separate dataframe*"
   ]
  },
  {
   "cell_type": "code",
   "execution_count": 18,
   "id": "c5e1579f",
   "metadata": {},
   "outputs": [],
   "source": [
    "x = df1.drop(\"no_of_days_subscribed\", axis=1) \n",
    "X = pd.DataFrame(x)"
   ]
  },
  {
   "cell_type": "code",
   "execution_count": 19,
   "id": "af044db3-981c-4cf7-bba1-48ed8365d28a",
   "metadata": {},
   "outputs": [
    {
     "name": "stdout",
     "output_type": "stream",
     "text": [
      "<class 'pandas.core.frame.DataFrame'>\n",
      "Index: 1918 entries, 0 to 1999\n",
      "Data columns (total 12 columns):\n",
      " #   Column                  Non-Null Count  Dtype  \n",
      "---  ------                  --------------  -----  \n",
      " 0   gender                  1918 non-null   int32  \n",
      " 1   age                     1918 non-null   int64  \n",
      " 2   multi_screen            1918 non-null   int32  \n",
      " 3   mail_subscribed         1918 non-null   int32  \n",
      " 4   weekly_mins_watched     1918 non-null   float64\n",
      " 5   minimum_daily_mins      1918 non-null   float64\n",
      " 6   maximum_daily_mins      1918 non-null   float64\n",
      " 7   weekly_max_night_mins   1918 non-null   int64  \n",
      " 8   videos_watched          1918 non-null   int64  \n",
      " 9   maximum_days_inactive   1918 non-null   float64\n",
      " 10  customer_support_calls  1918 non-null   int64  \n",
      " 11  churn                   1918 non-null   float64\n",
      "dtypes: float64(5), int32(3), int64(4)\n",
      "memory usage: 172.3 KB\n"
     ]
    }
   ],
   "source": [
    "X.info()"
   ]
  },
  {
   "cell_type": "markdown",
   "id": "14362754",
   "metadata": {},
   "source": [
    "*Scaling is a crucial preprocessing step that can help improve the performance and convergence of many machine learning algorithms. It ensures that all features contribute equally to the model, prevents features with larger scales from dominating*"
   ]
  },
  {
   "cell_type": "code",
   "execution_count": 20,
   "id": "029de39d",
   "metadata": {},
   "outputs": [],
   "source": [
    "#sc = StandardScaler()\n",
    "sc=MinMaxScaler()\n",
    "X = sc.fit_transform(X)\n",
    "X = sc.transform(X)"
   ]
  },
  {
   "cell_type": "code",
   "execution_count": 21,
   "id": "de148355",
   "metadata": {},
   "outputs": [
    {
     "data": {
      "text/plain": [
       "array([[ 0.        , -0.27685547,  0.        , ...,  0.11111111,\n",
       "         0.01234568,  0.        ],\n",
       "       [ 0.        , -0.27612305,  0.        , ...,  0.08333333,\n",
       "         0.02469136,  0.        ],\n",
       "       [ 0.        , -0.26977539,  0.        , ...,  0.11111111,\n",
       "         0.0617284 ,  1.        ],\n",
       "       ...,\n",
       "       [ 0.        , -0.27539062,  0.        , ...,  0.08333333,\n",
       "         0.03703704,  0.        ],\n",
       "       [ 1.        , -0.2746582 ,  0.        , ...,  0.08333333,\n",
       "         0.01234568,  0.        ],\n",
       "       [ 1.        , -0.27661133,  0.        , ...,  0.08333333,\n",
       "         0.01234568,  1.        ]])"
      ]
     },
     "execution_count": 21,
     "metadata": {},
     "output_type": "execute_result"
    }
   ],
   "source": [
    "X"
   ]
  },
  {
   "cell_type": "code",
   "execution_count": 22,
   "id": "2e33eb24",
   "metadata": {},
   "outputs": [
    {
     "data": {
      "text/plain": [
       "(1918, 12)"
      ]
     },
     "execution_count": 22,
     "metadata": {},
     "output_type": "execute_result"
    }
   ],
   "source": [
    "X.shape"
   ]
  },
  {
   "cell_type": "code",
   "execution_count": 23,
   "id": "000bce27",
   "metadata": {
    "scrolled": true
   },
   "outputs": [],
   "source": [
    "n_samples, n_features = X.shape   # Storing the values in two parts as it will easy later to feed the model "
   ]
  },
  {
   "cell_type": "markdown",
   "id": "db6003e1",
   "metadata": {},
   "source": [
    "*Keeping the output column in a separate dataframe*"
   ]
  },
  {
   "cell_type": "code",
   "execution_count": 24,
   "id": "9e9dc21a",
   "metadata": {},
   "outputs": [
    {
     "data": {
      "text/plain": [
       "1985     73\n",
       "1986     42\n",
       "1987    157\n",
       "1988    133\n",
       "1989    144\n",
       "1990     61\n",
       "1991     50\n",
       "1992    119\n",
       "1996    127\n",
       "1999     73\n",
       "Name: no_of_days_subscribed, dtype: int64"
      ]
     },
     "execution_count": 24,
     "metadata": {},
     "output_type": "execute_result"
    }
   ],
   "source": [
    "Y = df1[\"no_of_days_subscribed\"]\n",
    "Y.tail(10)"
   ]
  },
  {
   "cell_type": "code",
   "execution_count": 25,
   "id": "2fb83fd3",
   "metadata": {
    "scrolled": true
   },
   "outputs": [
    {
     "data": {
      "image/png": "[encoded data removed]",
      "text/plain": [
       "<Figure size 600x300 with 1 Axes>"
      ]
     },
     "metadata": {},
     "output_type": "display_data"
    }
   ],
   "source": [
    "plt.figure(figsize=(6, 3))\n",
    "sns.distplot(Y)\n",
    "plt.show()"
   ]
  },
  {
   "cell_type": "markdown",
   "id": "4b0f3d32-665a-40d3-b541-7b5f2122709b",
   "metadata": {},
   "source": [
    "*It follows a normal distribution which lead to more accurate, interpretable, and robust models Many statistical models, such as linear regression, assume that the residuals (errors) follow a normal distribution. This assumption ensures that the estimates of the coefficients are unbiased and efficient.*"
   ]
  },
  {
   "cell_type": "code",
   "execution_count": 26,
   "id": "064b1eb3",
   "metadata": {},
   "outputs": [],
   "source": [
    "X_train, X_test, y_train, y_test = train_test_split(X, Y, test_size=0.25, random_state=42)"
   ]
  },
  {
   "cell_type": "code",
   "execution_count": 27,
   "id": "5b06fbe9",
   "metadata": {},
   "outputs": [
    {
     "name": "stdout",
     "output_type": "stream",
     "text": [
      "<class 'numpy.ndarray'>\n",
      "<class 'numpy.ndarray'>\n",
      "<class 'pandas.core.series.Series'>\n",
      "<class 'pandas.core.series.Series'>\n"
     ]
    }
   ],
   "source": [
    "print(type(X_train))\n",
    "print(type(X_test))\n",
    "print(type(y_train))\n",
    "print(type(y_test))"
   ]
  },
  {
   "cell_type": "markdown",
   "id": "10c8cac2-46a1-436c-96f6-016844c4d6ec",
   "metadata": {},
   "source": [
    "- y_train & y_test are of type series. As we need to convert everything in numpy array, **.values** is used"
   ]
  },
  {
   "cell_type": "code",
   "execution_count": 28,
   "id": "39cf74e0-f7e3-4fea-871c-a16243ce7d2d",
   "metadata": {},
   "outputs": [
    {
     "name": "stdout",
     "output_type": "stream",
     "text": [
      "<class 'numpy.ndarray'>\n",
      "<class 'numpy.ndarray'>\n",
      "<class 'numpy.ndarray'>\n",
      "<class 'numpy.ndarray'>\n"
     ]
    }
   ],
   "source": [
    "print(type(X_train))\n",
    "print(type(X_test))\n",
    "print(type(y_train.values))\n",
    "print(type(y_test.values))"
   ]
  },
  {
   "cell_type": "code",
   "execution_count": 29,
   "id": "7b75338b-0304-4480-b8c0-9a6a2554b291",
   "metadata": {},
   "outputs": [
    {
     "data": {
      "text/plain": [
       "867      90\n",
       "1700     93\n",
       "1791    181\n",
       "727      72\n",
       "1148    155\n",
       "       ... \n",
       "1195    139\n",
       "1359    177\n",
       "925     126\n",
       "1529    112\n",
       "1191    117\n",
       "Name: no_of_days_subscribed, Length: 1438, dtype: int64"
      ]
     },
     "execution_count": 29,
     "metadata": {},
     "output_type": "execute_result"
    }
   ],
   "source": [
    "y_train"
   ]
  },
  {
   "cell_type": "markdown",
   "id": "3080fe67-c14c-4e2f-b687-4549bb0b82b5",
   "metadata": {},
   "source": [
    "- This is another way to convert to array"
   ]
  },
  {
   "cell_type": "code",
   "execution_count": 30,
   "id": "454b00ae",
   "metadata": {},
   "outputs": [],
   "source": [
    "# X_train = pd.DataFrame.to_numpy(X_train)\n",
    "# X_test = pd.DataFrame.to_numpy(X_test)\n",
    "# y_train = pd.DataFrame.to_numpy(y_train.values)\n",
    "# y_test = pd.DataFrame.to_numpy(y_test.values)\n",
    "\n",
    "# print(type(y_test))\n",
    "# print(type(y_train))\n",
    "# print(type(X_test))\n",
    "# print(type(X_test))"
   ]
  },
  {
   "cell_type": "markdown",
   "id": "2dc89efc",
   "metadata": {},
   "source": [
    "*convert all of them to the tensor as PyTorch works on Tensor*"
   ]
  },
  {
   "cell_type": "code",
   "execution_count": 31,
   "id": "7d8348ae",
   "metadata": {},
   "outputs": [],
   "source": [
    "X_train = torch.from_numpy(X_train.astype(np.float32))\n",
    "X_test = torch.from_numpy(X_test.astype(np.float32))\n",
    "y_train = torch.from_numpy(y_train.values.astype(np.float32))\n",
    "y_test = torch.from_numpy(y_test.values.astype(np.float32))"
   ]
  },
  {
   "cell_type": "code",
   "execution_count": 32,
   "id": "90815145-0fc6-406b-bfe6-7c502c6dbd43",
   "metadata": {},
   "outputs": [
    {
     "data": {
      "text/plain": [
       "tensor([ 0.0000e+00, -2.7710e-01,  0.0000e+00,  1.0000e+00,  5.1357e-04,\n",
       "         2.8500e-02,  4.5320e-03, -3.1449e-01,  1.3850e-02,  1.1111e-01,\n",
       "         1.2346e-02,  0.0000e+00])"
      ]
     },
     "execution_count": 32,
     "metadata": {},
     "output_type": "execute_result"
    }
   ],
   "source": [
    "X_train[0]"
   ]
  },
  {
   "cell_type": "code",
   "execution_count": 33,
   "id": "b46e3131-d05d-42f4-803b-296062ea92df",
   "metadata": {},
   "outputs": [
    {
     "data": {
      "text/plain": [
       "tensor(90.)"
      ]
     },
     "execution_count": 33,
     "metadata": {},
     "output_type": "execute_result"
    }
   ],
   "source": [
    "y_train[0]"
   ]
  },
  {
   "cell_type": "code",
   "execution_count": 34,
   "id": "40ded9a2-055f-4533-b9ee-79210a8afe27",
   "metadata": {},
   "outputs": [
    {
     "data": {
      "text/plain": [
       "tensor([ 90.,  93., 181.,  ..., 126., 112., 117.])"
      ]
     },
     "execution_count": 34,
     "metadata": {},
     "output_type": "execute_result"
    }
   ],
   "source": [
    "y_train"
   ]
  },
  {
   "cell_type": "code",
   "execution_count": 35,
   "id": "6a6f3482-a701-4efb-a250-264238d14d9f",
   "metadata": {},
   "outputs": [
    {
     "data": {
      "text/plain": [
       "torch.Size([1438])"
      ]
     },
     "execution_count": 35,
     "metadata": {},
     "output_type": "execute_result"
    }
   ],
   "source": [
    "y_train.shape"
   ]
  },
  {
   "cell_type": "code",
   "execution_count": 36,
   "id": "efdd3e0d-dc64-4ff2-be29-ba2c65e39fc8",
   "metadata": {},
   "outputs": [
    {
     "data": {
      "text/plain": [
       "1"
      ]
     },
     "execution_count": 36,
     "metadata": {},
     "output_type": "execute_result"
    }
   ],
   "source": [
    "y_train.ndim"
   ]
  },
  {
   "cell_type": "code",
   "execution_count": 37,
   "id": "b38a7cde",
   "metadata": {},
   "outputs": [
    {
     "data": {
      "text/plain": [
       "torch.float32"
      ]
     },
     "execution_count": 37,
     "metadata": {},
     "output_type": "execute_result"
    }
   ],
   "source": [
    "X_train.dtype\n",
    "X_test.dtype"
   ]
  },
  {
   "cell_type": "markdown",
   "id": "22effb78",
   "metadata": {},
   "source": [
    "#### Making output vector Y as a column vector for matrix multiplications"
   ]
  },
  {
   "cell_type": "code",
   "execution_count": 38,
   "id": "f7cac759",
   "metadata": {},
   "outputs": [],
   "source": [
    "y_train = y_train.view(y_train.shape[0], 1)\n",
    "y_test = y_test.view(y_test.shape[0], 1)"
   ]
  },
  {
   "cell_type": "markdown",
   "id": "231855a9-39d8-4b32-a4f3-21a2e22ddc2d",
   "metadata": {},
   "source": [
    "*The purpose of reshaping y_train and y_test to (number of samples, 1) is to ensure the target labels have the correct shape for training and evaluation with a PyTorch model. Many models and loss functions expect the target tensor to have a specific shape*\n",
    "\n",
    "**.view()** method in PyTorch is used to reshape a tensor without changing its data"
   ]
  },
  {
   "cell_type": "code",
   "execution_count": 39,
   "id": "a9906b61-dea0-4ee0-986f-dbeea31b03ed",
   "metadata": {},
   "outputs": [
    {
     "data": {
      "text/plain": [
       "tensor([ 0.0000e+00, -2.7710e-01,  0.0000e+00,  1.0000e+00,  5.1357e-04,\n",
       "         2.8500e-02,  4.5320e-03, -3.1449e-01,  1.3850e-02,  1.1111e-01,\n",
       "         1.2346e-02,  0.0000e+00])"
      ]
     },
     "execution_count": 39,
     "metadata": {},
     "output_type": "execute_result"
    }
   ],
   "source": [
    "X_train[0]"
   ]
  },
  {
   "cell_type": "code",
   "execution_count": 40,
   "id": "55f5b561-86a4-493f-8ae2-0a33875e986a",
   "metadata": {},
   "outputs": [
    {
     "data": {
      "text/plain": [
       "tensor([90.])"
      ]
     },
     "execution_count": 40,
     "metadata": {},
     "output_type": "execute_result"
    }
   ],
   "source": [
    "y_train[0]"
   ]
  },
  {
   "cell_type": "code",
   "execution_count": 41,
   "id": "69d31f15-a18e-47d9-9473-962f1d5cbd58",
   "metadata": {},
   "outputs": [
    {
     "data": {
      "text/plain": [
       "tensor([[ 90.],\n",
       "        [ 93.],\n",
       "        [181.],\n",
       "        ...,\n",
       "        [126.],\n",
       "        [112.],\n",
       "        [117.]])"
      ]
     },
     "execution_count": 41,
     "metadata": {},
     "output_type": "execute_result"
    }
   ],
   "source": [
    "y_train"
   ]
  },
  {
   "cell_type": "code",
   "execution_count": 42,
   "id": "f1d663ea-46b0-4152-830f-9179087ce642",
   "metadata": {},
   "outputs": [
    {
     "data": {
      "text/plain": [
       "torch.Size([1438, 1])"
      ]
     },
     "execution_count": 42,
     "metadata": {},
     "output_type": "execute_result"
    }
   ],
   "source": [
    "y_train.shape"
   ]
  },
  {
   "cell_type": "code",
   "execution_count": 43,
   "id": "7012393b-b6a6-4f57-a039-0faa75585a3a",
   "metadata": {},
   "outputs": [
    {
     "data": {
      "text/plain": [
       "2"
      ]
     },
     "execution_count": 43,
     "metadata": {},
     "output_type": "execute_result"
    }
   ],
   "source": [
    "y_train.ndim"
   ]
  },
  {
   "attachments": {},
   "cell_type": "markdown",
   "id": "5d298b9e",
   "metadata": {},
   "source": [
    "### 4.Model Building: Creating Linear Regression model in Pytorch\n",
    "\n",
    "- Linear Regression is a Linear model so we will use Pytorch's [nn.Linear] module "
   ]
  },
  {
   "cell_type": "code",
   "execution_count": 44,
   "id": "a6fb8f43",
   "metadata": {},
   "outputs": [],
   "source": [
    "in_dimn = n_features     # its 12 our case \n",
    "out_dimn = 1             # in our case 1"
   ]
  },
  {
   "cell_type": "code",
   "execution_count": 45,
   "id": "db906523",
   "metadata": {},
   "outputs": [],
   "source": [
    "## Define the LinearRegressionModel class inheriting from torch.nn.Module\n",
    "class LinearRegressionModel(torch.nn.Module): \n",
    "    #Constructor method for the class. This method is called when an object(instance) of the class is created.\n",
    "    def __init__(self,in_dimn,out_dimn):\n",
    "        #Calls the constructor of the parent/base class (torch.nn.Module) to initialize the base class properly.\n",
    "        super(LinearRegressionModel,self).__init__()\n",
    "        #Creates a linear layer and assigns it to the model attribute of the instance\n",
    "        self.model=torch.nn.Linear(in_dimn,out_dimn) \n",
    "    #This method is called when you pass data through the model\n",
    "    def forward(self,x):\n",
    "        #Passes the input data x through the linear layer self.model to get the predicted output y_pred\n",
    "        y_pred=self.model(x); \n",
    "        return y_pred\n",
    "        \n",
    "#Creates an instance of the LinearRegressionModel class & calls the __init__ method with the specified in_dimn and out_dimn    \n",
    "model=LinearRegressionModel(in_dimn, out_dimn)"
   ]
  },
  {
   "cell_type": "code",
   "execution_count": 46,
   "id": "571fd7cb",
   "metadata": {},
   "outputs": [
    {
     "data": {
      "text/plain": [
       "<bound method Module.parameters of LinearRegressionModel(\n",
       "  (model): Linear(in_features=12, out_features=1, bias=True)\n",
       ")>"
      ]
     },
     "execution_count": 46,
     "metadata": {},
     "output_type": "execute_result"
    }
   ],
   "source": [
    "model.parameters"
   ]
  },
  {
   "attachments": {},
   "cell_type": "markdown",
   "id": "018ea439",
   "metadata": {},
   "source": [
    "### 5.Compiling Model\n"
   ]
  },
  {
   "cell_type": "code",
   "execution_count": 58,
   "id": "080e7512",
   "metadata": {},
   "outputs": [],
   "source": [
    "num_epochs = 1000                                   \n",
    "learning_rate = 0.1                               \n",
    "criterion = nn.MSELoss()                                              \n",
    "optimizer = torch.optim.Adam(model.parameters(), lr=learning_rate)         "
   ]
  },
  {
   "cell_type": "markdown",
   "id": "6d18b610-a41c-4038-87a1-97307a19570d",
   "metadata": {},
   "source": [
    "*Using ADAM optimizer to find local minima. Parameters() tells optimizer which parameters of the model it should update during the training process & learning rate tells how much to change the model parameters with respect to the gradient of the loss function*"
   ]
  },
  {
   "cell_type": "code",
   "execution_count": 66,
   "id": "e0ca83bb",
   "metadata": {
    "scrolled": true
   },
   "outputs": [
    {
     "name": "stdout",
     "output_type": "stream",
     "text": [
      "epoch: 30, loss = 1596.6300\n",
      "epoch: 60, loss = 1596.5956\n",
      "epoch: 90, loss = 1596.5615\n",
      "epoch: 120, loss = 1596.5282\n",
      "epoch: 150, loss = 1596.4950\n",
      "epoch: 180, loss = 1596.4618\n",
      "epoch: 210, loss = 1596.4290\n",
      "epoch: 240, loss = 1596.3962\n",
      "epoch: 270, loss = 1596.3646\n",
      "epoch: 300, loss = 1596.3315\n",
      "epoch: 330, loss = 1596.2997\n",
      "epoch: 360, loss = 1596.2681\n",
      "epoch: 390, loss = 1596.2366\n",
      "epoch: 420, loss = 1596.2052\n",
      "epoch: 450, loss = 1596.1737\n",
      "epoch: 480, loss = 1596.1427\n",
      "epoch: 510, loss = 1596.1118\n",
      "epoch: 540, loss = 1596.0812\n",
      "epoch: 570, loss = 1596.0508\n",
      "epoch: 600, loss = 1596.0201\n",
      "epoch: 630, loss = 1595.9899\n",
      "epoch: 660, loss = 1595.9606\n",
      "epoch: 690, loss = 1595.9298\n",
      "epoch: 720, loss = 1595.9003\n",
      "epoch: 750, loss = 1595.8706\n",
      "epoch: 780, loss = 1595.8411\n",
      "epoch: 810, loss = 1595.8115\n",
      "epoch: 840, loss = 1595.7823\n",
      "epoch: 870, loss = 1595.7537\n",
      "epoch: 900, loss = 1595.7241\n",
      "epoch: 930, loss = 1595.6952\n",
      "epoch: 960, loss = 1595.6664\n",
      "epoch: 990, loss = 1595.6378\n"
     ]
    }
   ],
   "source": [
    "for epoch in range(num_epochs):\n",
    "    y_pred = model(X_train)\n",
    "    loss = criterion(y_pred, y_train)    \n",
    "    loss.backward()\n",
    "    ## Compute gradients of the loss with respect to parameters.\n",
    "    #The gradients tell us how much to adjust each parameter to reduce the loss by indicating the direction and magnitude of the parameter\n",
    "    optimizer.step()\n",
    "    #updates the model's parameters using the computed gradients. This is where the actual learning happens as the model adjusts its parameters to minimize the loss.\n",
    "    optimizer.zero_grad()\n",
    "    #Resets the gradients to zero for the next iteration. This is crucial because PyTorch accumulates gradients by default.\n",
    "    if (epoch+1) % 30 == 0:                                       \n",
    "        # printing loss values on every 30 epochs to keep track\n",
    "        print(f'epoch: {epoch+1}, loss = {loss.item():.4f}')"
   ]
  },
  {
   "cell_type": "code",
   "execution_count": 68,
   "id": "64cad617",
   "metadata": {},
   "outputs": [],
   "source": [
    "# Detaching the output from the computational graph and converting to numpy \n",
    "y_pred = model(X_test).detach().numpy()"
   ]
  },
  {
   "cell_type": "code",
   "execution_count": 69,
   "id": "4f4829e7",
   "metadata": {},
   "outputs": [
    {
     "data": {
      "text/plain": [
       "-0.004343941199913326"
      ]
     },
     "execution_count": 69,
     "metadata": {},
     "output_type": "execute_result"
    }
   ],
   "source": [
    "from sklearn.metrics import r2_score\n",
    "sklearn.metrics.r2_score(y_test, y_pred)"
   ]
  },
  {
   "cell_type": "code",
   "execution_count": 62,
   "id": "5d62d55b-2cea-4ef4-bd6c-c4cc86bfd39f",
   "metadata": {},
   "outputs": [],
   "source": [
    "#It can be further optimized by hyperparameter tuning. This notebook is intended for understanding linear Regression with Pytorch"
   ]
  }
 ],
 "metadata": {
  "kernelspec": {
   "display_name": "Python 3 (ipykernel)",
   "language": "python",
   "name": "python3"
  },
  "language_info": {
   "codemirror_mode": {
    "name": "ipython",
    "version": 3
   },
   "file_extension": ".py",
   "mimetype": "text/x-python",
   "name": "python",
   "nbconvert_exporter": "python",
   "pygments_lexer": "ipython3",
   "version": "3.11.6"
  }
 },
 "nbformat": 4,
 "nbformat_minor": 5
}
